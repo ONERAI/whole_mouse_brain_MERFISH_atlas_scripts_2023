{
 "cells": [
  {
   "cell_type": "code",
   "execution_count": null,
   "id": "e71f00fb",
   "metadata": {},
   "outputs": [],
   "source": [
    "import os\n",
    "import shutil\n",
    "import numpy as np\n",
    "import pandas as pd\n",
    "import matplotlib.pyplot as plt\n",
    "\n",
    "import anndata\n",
    "import scanpy as sc\n",
    "sc.settings.n_jobs = 56\n",
    "sc.settings.set_figure_params(dpi=180, dpi_save=300, frameon=False, figsize=(4, 4), fontsize=8, facecolor='white')\n",
    "\n",
    "import ALLCools\n",
    "from ALLCools.integration.seurat_class import SeuratIntegration"
   ]
  },
  {
   "cell_type": "code",
   "execution_count": null,
   "id": "65d678cc",
   "metadata": {},
   "outputs": [],
   "source": [
    "# Define the parameters\n",
    "workspace_path = 'integration_workspace'"
   ]
  },
  {
   "cell_type": "markdown",
   "id": "f3579b91",
   "metadata": {},
   "source": [
    "# Load and preprocess the data"
   ]
  },
  {
   "cell_type": "code",
   "execution_count": null,
   "id": "973a643f",
   "metadata": {},
   "outputs": [],
   "source": [
    "# Load the datasets\n",
    "adata_seq = sc.read_h5ad(os.path.join(workspace_path, 'adata_seq_common_genes.h5ad'))\n",
    "\n",
    "adata_merfish_raw = sc.read_h5ad(os.path.join(workspace_path, 'adata_merfish.h5ad'))\n",
    "adata_merfish = adata_merfish_raw.copy()"
   ]
  },
  {
   "cell_type": "code",
   "execution_count": null,
   "id": "7a0c18ce",
   "metadata": {},
   "outputs": [],
   "source": [
    "# Normalize and scale the data\n",
    "# Note: scaling before merging resulted in better co-embedding\n",
    "sc.pp.normalize_total(adata_seq, target_sum=1000)\n",
    "sc.pp.log1p(adata_seq)\n",
    "sc.pp.scale(adata_seq)\n",
    "\n",
    "sc.pp.normalize_total(adata_merfish, target_sum=1000)\n",
    "sc.pp.log1p(adata_merfish)\n",
    "sc.pp.scale(adata_merfish)"
   ]
  },
  {
   "cell_type": "code",
   "execution_count": null,
   "id": "715ca002",
   "metadata": {},
   "outputs": [],
   "source": [
    "# Merge the datasets\n",
    "adata_merge = adata_seq.concatenate(adata_merfish,\n",
    "                                    batch_categories=['seq', 'merfish'],\n",
    "                                    batch_key='modality',\n",
    "                                    index_unique=None)"
   ]
  },
  {
   "cell_type": "code",
   "execution_count": null,
   "id": "29b1c5c3",
   "metadata": {},
   "outputs": [],
   "source": [
    "%%time\n",
    "# Get the significant PCs\n",
    "n_pcs = 100\n",
    "sc.tl.pca(adata_merge, svd_solver='arpack', n_comps=100)"
   ]
  },
  {
   "cell_type": "code",
   "execution_count": null,
   "id": "564e8de5",
   "metadata": {},
   "outputs": [],
   "source": [
    "adata_list = [adata_merge[adata_merge.obs['modality'] == 'seq'],\n",
    "              adata_merge[adata_merge.obs['modality'] == 'merfish']\n",
    "             ]"
   ]
  },
  {
   "cell_type": "markdown",
   "id": "3c569425",
   "metadata": {},
   "source": [
    "# Integration"
   ]
  },
  {
   "cell_type": "code",
   "execution_count": null,
   "id": "3f7408f6",
   "metadata": {},
   "outputs": [],
   "source": [
    "%%time\n",
    "# Find the integration anchors\n",
    "integrator = SeuratIntegration()\n",
    "integrator.find_anchor(adata_list,\n",
    "                       k_local=None,\n",
    "                       key_local='X_pca',\n",
    "                       k_anchor=5,\n",
    "                       key_anchor='X',\n",
    "                       dim_red='cca',\n",
    "                       max_cc_cells=100000,\n",
    "                       k_score=30,\n",
    "                       k_filter=None, #why?\n",
    "                       scale1=False,\n",
    "                       scale2=False,\n",
    "                       n_components=n_pcs,\n",
    "                       n_features=200,\n",
    "                       alignments=[[[0], [1]]])"
   ]
  },
  {
   "cell_type": "markdown",
   "id": "648e047a",
   "metadata": {},
   "source": [
    "# Label transfer"
   ]
  },
  {
   "cell_type": "code",
   "execution_count": null,
   "id": "cb0ef713",
   "metadata": {},
   "outputs": [],
   "source": [
    "%%time\n",
    "cell_type_col = 'integration_partition'\n",
    "\n",
    "transfer_results = integrator.label_transfer(\n",
    "    ref=[0],\n",
    "    qry=[1],\n",
    "    categorical_key=[cell_type_col],\n",
    "    key_dist='X_pca',\n",
    "    kweight=100,\n",
    "    npc=n_pcs\n",
    ")\n",
    "\n",
    "integrator.save_transfer_results_to_adata(adata_merge, transfer_results)"
   ]
  },
  {
   "cell_type": "code",
   "execution_count": null,
   "id": "0b03bb01",
   "metadata": {},
   "outputs": [],
   "source": [
    "# Assign the transfered labels and the confidence\n",
    "adata_merfish_raw.obs[cell_type_col + '_transfer'] = transfer_results[cell_type_col].idxmax(axis=1\n",
    "                                                                                           ).astype('category')\n",
    "adata_merfish_raw.obs[cell_type_col + '_confidence'] = transfer_results[cell_type_col].max(axis=1)\n",
    "\n",
    "n_transfered = len(np.unique(adata_merfish_raw.obs[cell_type_col + '_transfer']))\n",
    "n_total = len(np.unique(adata_merge.obs[cell_type_col + '_transfer']))\n",
    "print(f'Transfered {n_transfered}/{n_total} cell types.')"
   ]
  },
  {
   "cell_type": "code",
   "execution_count": null,
   "id": "802209a3",
   "metadata": {},
   "outputs": [],
   "source": [
    "# Save the label transfer results for each class\n",
    "partition_path = os.path.join(workspace_path, 'partitions')\n",
    "partitions = np.unique(adata_merfish_raw.obs[cell_type_col + '_transfer'])\n",
    "\n",
    "for pn in partitions:\n",
    "    adata_subset = adata_merfish_raw[adata_merfish_raw.obs[cell_type_col + '_transfer'] == pn]\n",
    "    adata_subset.write_h5ad(os.path.join(partition_path, pn.replace('/', '-').replace(' ', '_'), \n",
    "                                    'adata_merfish_integrated.h5ad'), compression='gzip')"
   ]
  },
  {
   "cell_type": "code",
   "execution_count": null,
   "id": "2c813ca9",
   "metadata": {},
   "outputs": [],
   "source": [
    "plt.hist(adata_merfish_raw.obs['integration_partition_confidence'], bins=30)\n",
    "plt.title('partition_confidence')"
   ]
  },
  {
   "cell_type": "markdown",
   "id": "9bce6019",
   "metadata": {},
   "source": [
    "# Coembedding"
   ]
  },
  {
   "cell_type": "code",
   "execution_count": null,
   "id": "68fbac47",
   "metadata": {},
   "outputs": [],
   "source": [
    "%%time\n",
    "# Correct the PCs using the integration anchors\n",
    "corrected = integrator.integrate(key_correct='X_pca',\n",
    "                                 row_normalize=True,\n",
    "                                 n_components=n_pcs,\n",
    "                                 k_weight=100,\n",
    "                                 sd=1,\n",
    "                                 alignments=[[[0], [1]]])\n",
    "\n",
    "adata_merge.obsm['X_pca_integrate'] = np.concatenate(corrected)"
   ]
  },
  {
   "cell_type": "code",
   "execution_count": null,
   "id": "2546dde1",
   "metadata": {},
   "outputs": [],
   "source": [
    "# Calculate KNN using the integrated PCs\n",
    "sc.pp.neighbors(adata_merge, use_rep='X_pca_integrate')"
   ]
  },
  {
   "cell_type": "code",
   "execution_count": null,
   "id": "0cd6a4b3",
   "metadata": {},
   "outputs": [],
   "source": [
    "%%time\n",
    "# Generate the PAGA plot for the initial arrangement of the UMAP\n",
    "sc.tl.paga(adata_merge, groups=cell_type_col + '_transfer')\n",
    "sc.pl.paga(adata_merge, save='_tmp.png')\n",
    "shutil.move('figures/paga_tmp.png', os.path.join(workspace_path, 'integration_paga_round1.png'))"
   ]
  },
  {
   "cell_type": "code",
   "execution_count": null,
   "id": "91c1e66f",
   "metadata": {},
   "outputs": [],
   "source": [
    "%%time\n",
    "# Save the umap\n",
    "sc.tl.umap(adata_merge, init_pos='paga', min_dist=0.5)\n",
    "sc.pl.umap(adata_merge, color='modality', save='_tmp.png')\n",
    "shutil.move('figures/umap_tmp.png', os.path.join(workspace_path, 'integration_umap_round1_modality.png'))\n",
    "sc.pl.umap(adata_merge, color=cell_type_col + '_transfer', save='_tmp.png', palette='gist_ncar')\n",
    "shutil.move('figures/umap_tmp.png', os.path.join(workspace_path, 'integration_umap_round1_partitions.png'))"
   ]
  },
  {
   "cell_type": "code",
   "execution_count": null,
   "id": "6a273c63",
   "metadata": {},
   "outputs": [],
   "source": [
    "# Save the merged adata\n",
    "adata_merge.write_h5ad(os.path.join(workspace_path, 'adata_merged_round1.h5ad'), compression='gzip')"
   ]
  },
  {
   "cell_type": "code",
   "execution_count": null,
   "id": "95327154",
   "metadata": {},
   "outputs": [],
   "source": [
    "coembedding_umap_df = adata_merge.obs[[]].copy()\n",
    "coembedding_umap_df['umap_x'] = adata_merge.obsm['X_umap'][:, 0]\n",
    "coembedding_umap_df['umap_y'] = adata_merge.obsm['X_umap'][:, 1]\n",
    "coembedding_umap_df.to_csv(os.path.join(workspace_path, 'coembedding_umap.csv'))"
   ]
  },
  {
   "cell_type": "code",
   "execution_count": null,
   "id": "d147b13c",
   "metadata": {},
   "outputs": [],
   "source": []
  }
 ],
 "metadata": {
  "kernelspec": {
   "display_name": "Python 3 (ipykernel)",
   "language": "python",
   "name": "python3"
  },
  "language_info": {
   "codemirror_mode": {
    "name": "ipython",
    "version": 3
   },
   "file_extension": ".py",
   "mimetype": "text/x-python",
   "name": "python",
   "nbconvert_exporter": "python",
   "pygments_lexer": "ipython3",
   "version": "3.9.12"
  }
 },
 "nbformat": 4,
 "nbformat_minor": 5
}
