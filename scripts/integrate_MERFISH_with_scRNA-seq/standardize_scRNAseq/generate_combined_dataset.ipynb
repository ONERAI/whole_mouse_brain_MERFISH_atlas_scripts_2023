{
 "cells": [
  {
   "cell_type": "code",
   "execution_count": 1,
   "id": "2610fdcc",
   "metadata": {},
   "outputs": [],
   "source": [
    "import os\n",
    "import gc\n",
    "\n",
    "import numpy as np\n",
    "import pandas as pd\n",
    "\n",
    "import anndata\n",
    "import scanpy as sc"
   ]
  },
  {
   "cell_type": "code",
   "execution_count": 2,
   "id": "10d21b55",
   "metadata": {},
   "outputs": [
    {
     "name": "stdout",
     "output_type": "stream",
     "text": [
      "CPU times: user 7min 28s, sys: 42.8 s, total: 8min 11s\n",
      "Wall time: 8min 49s\n"
     ]
    }
   ],
   "source": [
    "%%time\n",
    "adata_files = ['AIT21_10Xv2.h5ad', 'AIT21_10Xv3.h5ad', 'AIT21_multiome.h5ad']\n",
    "\n",
    "adata_list = [sc.read_h5ad(f) for f in adata_files]"
   ]
  },
  {
   "cell_type": "code",
   "execution_count": 3,
   "id": "28a69db8",
   "metadata": {},
   "outputs": [
    {
     "name": "stdout",
     "output_type": "stream",
     "text": [
      "CPU times: user 5min 35s, sys: 19min 4s, total: 24min 40s\n",
      "Wall time: 3h 24min 44s\n"
     ]
    }
   ],
   "source": [
    "%%time\n",
    "adata = anndata.concat(adata_list)\n",
    "adata.obs['external_donor_name'] = adata.obs['external_donor_name'].astype(str)"
   ]
  },
  {
   "cell_type": "code",
   "execution_count": 18,
   "id": "386bc955",
   "metadata": {},
   "outputs": [
    {
     "data": {
      "text/plain": [
       "AnnData object with n_obs × n_vars = 4042976 × 32285\n",
       "    obs: 'library_prep', 'gene.counts.0', 'doublet_score', 'roi', 'umi.counts', 'method', 'sex', 'external_donor_name', 'age', 'medical_conditions', 'cl', 'subclass_label'"
      ]
     },
     "execution_count": 18,
     "metadata": {},
     "output_type": "execute_result"
    }
   ],
   "source": [
    "adata"
   ]
  },
  {
   "cell_type": "code",
   "execution_count": 19,
   "id": "15acb584",
   "metadata": {},
   "outputs": [
    {
     "name": "stdout",
     "output_type": "stream",
     "text": [
      "CPU times: user 54min 24s, sys: 14.7 s, total: 54min 39s\n",
      "Wall time: 54min 52s\n"
     ]
    }
   ],
   "source": [
    "%%time\n",
    "adata.write_h5ad('AIT21_combined.h5ad', compression='gzip')"
   ]
  },
  {
   "cell_type": "code",
   "execution_count": null,
   "id": "26cc30cc",
   "metadata": {},
   "outputs": [],
   "source": []
  }
 ],
 "metadata": {
  "kernelspec": {
   "display_name": "Python 3 (ipykernel)",
   "language": "python",
   "name": "python3"
  },
  "language_info": {
   "codemirror_mode": {
    "name": "ipython",
    "version": 3
   },
   "file_extension": ".py",
   "mimetype": "text/x-python",
   "name": "python",
   "nbconvert_exporter": "python",
   "pygments_lexer": "ipython3",
   "version": "3.8.13"
  }
 },
 "nbformat": 4,
 "nbformat_minor": 5
}
