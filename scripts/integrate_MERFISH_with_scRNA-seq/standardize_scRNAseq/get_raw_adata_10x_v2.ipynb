{
 "cells": [
  {
   "cell_type": "code",
   "execution_count": 1,
   "id": "700ecdc2",
   "metadata": {},
   "outputs": [],
   "source": [
    "import os\n",
    "import gc\n",
    "\n",
    "import numpy as np\n",
    "import pandas as pd\n",
    "\n",
    "import anndata\n",
    "import scanpy as sc"
   ]
  },
  {
   "cell_type": "code",
   "execution_count": 2,
   "id": "ebd05c20",
   "metadata": {},
   "outputs": [],
   "source": [
    "count_file = 'AIT21_10Xv2.h5ad'\n",
    "\n",
    "input_path = '/home/xingjiepan/data/whole_brain/scRNA-seq/20230723/'\n",
    "annotation_file = '/home/xingjiepan/data/whole_brain/scRNA-seq/20230723/AIT21_annotation.tsv'\n",
    "\n",
    "annotation_df = pd.read_csv(annotation_file, sep='\\t')\n",
    "annotation_df['cl'] = annotation_df['cl'].astype(str)\n",
    "subclass_map = {t[0] : t[1] for t in annotation_df[['cl', 'subclass_label']].itertuples(index=False)}"
   ]
  },
  {
   "cell_type": "code",
   "execution_count": 3,
   "id": "3077d004",
   "metadata": {},
   "outputs": [
    {
     "name": "stdout",
     "output_type": "stream",
     "text": [
      "CPU times: user 1min 14s, sys: 3min 50s, total: 5min 5s\n",
      "Wall time: 22min\n"
     ]
    },
    {
     "data": {
      "text/plain": [
       "409"
      ]
     },
     "execution_count": 3,
     "metadata": {},
     "output_type": "execute_result"
    }
   ],
   "source": [
    "%%time\n",
    "adata = sc.read_h5ad(os.path.join(input_path, count_file))\n",
    "adata.obs['subclass_label'] = adata.obs['cl'].map(subclass_map)\n",
    "\n",
    "# Filter out cells without subclass annotations or annotated as low quality\n",
    "mask_not_na = ~adata.obs['subclass_label'].isna()\n",
    "mask_not_lq = adata.obs['subclass_label'] != 'LQ'\n",
    "adata = adata[mask_not_na & mask_not_lq].copy()\n",
    "gc.collect()"
   ]
  },
  {
   "cell_type": "code",
   "execution_count": 4,
   "id": "8c20affc",
   "metadata": {},
   "outputs": [
    {
     "name": "stdout",
     "output_type": "stream",
     "text": [
      "CPU times: user 19min 25s, sys: 6.45 s, total: 19min 31s\n",
      "Wall time: 19min 35s\n"
     ]
    },
    {
     "data": {
      "text/plain": [
       "AnnData object with n_obs × n_vars = 1699939 × 32285\n",
       "    obs: 'library_prep', 'gene.counts.0', 'doublet_score', 'roi', 'umi.counts', 'method', 'sex', 'external_donor_name', 'age', 'medical_conditions', 'cl', 'subclass_label'\n",
       "    var: 'gene_symbol', 'gene_identifier'"
      ]
     },
     "execution_count": 4,
     "metadata": {},
     "output_type": "execute_result"
    }
   ],
   "source": [
    "%%time\n",
    "# Generate an adata with raw count\n",
    "adata_raw = anndata.AnnData(X=adata.layers['rawcount'], obs=adata.obs, var=adata.var)\n",
    "adata_raw.write_h5ad(count_file, compression='gzip')\n",
    "adata_raw"
   ]
  },
  {
   "cell_type": "code",
   "execution_count": null,
   "id": "95b811b5",
   "metadata": {},
   "outputs": [],
   "source": []
  }
 ],
 "metadata": {
  "kernelspec": {
   "display_name": "Python 3 (ipykernel)",
   "language": "python",
   "name": "python3"
  },
  "language_info": {
   "codemirror_mode": {
    "name": "ipython",
    "version": 3
   },
   "file_extension": ".py",
   "mimetype": "text/x-python",
   "name": "python",
   "nbconvert_exporter": "python",
   "pygments_lexer": "ipython3",
   "version": "3.8.13"
  }
 },
 "nbformat": 4,
 "nbformat_minor": 5
}
