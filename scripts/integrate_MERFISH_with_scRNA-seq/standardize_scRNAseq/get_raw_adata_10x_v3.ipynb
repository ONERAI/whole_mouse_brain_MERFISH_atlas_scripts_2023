{
 "cells": [
  {
   "cell_type": "code",
   "execution_count": 1,
   "id": "71ec745c",
   "metadata": {},
   "outputs": [],
   "source": [
    "import os\n",
    "import gc\n",
    "\n",
    "import numpy as np\n",
    "import pandas as pd\n",
    "\n",
    "import anndata\n",
    "import scanpy as sc"
   ]
  },
  {
   "cell_type": "code",
   "execution_count": 2,
   "id": "36ff3f2a",
   "metadata": {},
   "outputs": [],
   "source": [
    "count_file = 'AIT21_10Xv3.h5ad'\n",
    "\n",
    "input_path = '/home/xingjiepan/data/whole_brain/scRNA-seq/20230723/'\n",
    "annotation_file = '/home/xingjiepan/data/whole_brain/scRNA-seq/20230723/AIT21_annotation.tsv'\n",
    "\n",
    "annotation_df = pd.read_csv(annotation_file, sep='\\t')\n",
    "annotation_df['cl'] = annotation_df['cl'].astype(str)\n",
    "subclass_map = {t[0] : t[1] for t in annotation_df[['cl', 'subclass_label']].itertuples(index=False)}"
   ]
  },
  {
   "cell_type": "code",
   "execution_count": 3,
   "id": "522b2590",
   "metadata": {},
   "outputs": [
    {
     "name": "stdout",
     "output_type": "stream",
     "text": [
      "CPU times: user 2min 4s, sys: 18min 30s, total: 20min 34s\n",
      "Wall time: 1h 24min 24s\n"
     ]
    },
    {
     "data": {
      "text/plain": [
       "409"
      ]
     },
     "execution_count": 3,
     "metadata": {},
     "output_type": "execute_result"
    }
   ],
   "source": [
    "%%time\n",
    "adata = sc.read_h5ad(os.path.join(input_path, count_file))\n",
    "adata.obs['subclass_label'] = adata.obs['cl'].map(subclass_map)\n",
    "\n",
    "# Filter out cells without subclass annotations or annotated as low quality\n",
    "mask_not_na = ~adata.obs['subclass_label'].isna()\n",
    "mask_not_lq = adata.obs['subclass_label'] != 'LQ'\n",
    "adata = adata[mask_not_na & mask_not_lq].copy()\n",
    "gc.collect()"
   ]
  },
  {
   "cell_type": "code",
   "execution_count": 4,
   "id": "7a76a486",
   "metadata": {},
   "outputs": [
    {
     "name": "stdout",
     "output_type": "stream",
     "text": [
      "CPU times: user 35min 1s, sys: 20.5 s, total: 35min 22s\n",
      "Wall time: 42min 29s\n"
     ]
    },
    {
     "data": {
      "text/plain": [
       "AnnData object with n_obs × n_vars = 2341350 × 32285\n",
       "    obs: 'library_prep', 'gene.counts.0', 'doublet_score', 'roi', 'umi.counts', 'method', 'sex', 'external_donor_name', 'age', 'medical_conditions', 'cl', 'subclass_label'\n",
       "    var: 'gene_symbol', 'gene_identifier'"
      ]
     },
     "execution_count": 4,
     "metadata": {},
     "output_type": "execute_result"
    }
   ],
   "source": [
    "%%time\n",
    "# Generate an adata with raw count\n",
    "adata_raw = anndata.AnnData(X=adata.layers['rawcount'], obs=adata.obs, var=adata.var)\n",
    "adata_raw.write_h5ad(count_file, compression='gzip')\n",
    "adata_raw"
   ]
  },
  {
   "cell_type": "code",
   "execution_count": null,
   "id": "16fbdad5",
   "metadata": {},
   "outputs": [],
   "source": []
  }
 ],
 "metadata": {
  "kernelspec": {
   "display_name": "Python 3 (ipykernel)",
   "language": "python",
   "name": "python3"
  },
  "language_info": {
   "codemirror_mode": {
    "name": "ipython",
    "version": 3
   },
   "file_extension": ".py",
   "mimetype": "text/x-python",
   "name": "python",
   "nbconvert_exporter": "python",
   "pygments_lexer": "ipython3",
   "version": "3.8.13"
  }
 },
 "nbformat": 4,
 "nbformat_minor": 5
}
