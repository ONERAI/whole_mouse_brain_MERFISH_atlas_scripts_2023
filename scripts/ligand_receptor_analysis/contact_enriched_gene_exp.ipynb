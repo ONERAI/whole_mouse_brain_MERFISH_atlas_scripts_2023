{
 "cells": [
  {
   "cell_type": "code",
   "execution_count": 1,
   "id": "ebf2b1c4",
   "metadata": {},
   "outputs": [],
   "source": [
    "import os\n",
    "\n",
    "import numpy as np\n",
    "import pandas as pd\n",
    "import matplotlib.pyplot as plt\n",
    "import scipy.stats\n",
    "\n",
    "import anndata\n",
    "import scanpy as sc\n",
    "sc.settings.n_jobs = 50\n",
    "sc.settings.set_figure_params(dpi=180, dpi_save=300, frameon=False, figsize=(4, 4), fontsize=8, facecolor='white')"
   ]
  },
  {
   "cell_type": "code",
   "execution_count": 2,
   "id": "3c8a5ddb",
   "metadata": {},
   "outputs": [],
   "source": [
    "def load_imputation_data(imputation_path, genes=None, cell_types=None, verbose=False):\n",
    "    '''Load the imputation results into an AnnData object with specified \n",
    "    genes and cell types.'''\n",
    "    # Load the table of gene partitions\n",
    "    gene_partition_df = pd.read_csv(os.path.join(imputation_path, 'gene_partition.csv')).set_index('gene')\n",
    "    \n",
    "    # Define which genes to load\n",
    "    if genes is None:\n",
    "        genes = np.array(gene_partition_df.index)\n",
    "        \n",
    "    # Define which partitions to load\n",
    "    partitions = np.unique(gene_partition_df['gene_partition'][gene_partition_df.index.isin(genes)])\n",
    "        \n",
    "    # Define which cell types to load\n",
    "    ct_paths = sorted([f for f in os.listdir(imputation_path) \n",
    "                       if os.path.isdir(os.path.join(imputation_path, f))])\n",
    "    if not (cell_types is None):\n",
    "        ct_paths = np.intersect1d(ct_paths, [ct.replace('/', '-').replace(' ', '_') for ct in cell_types])\n",
    "    \n",
    "    # Load the specified cell types\n",
    "    adata_list = []\n",
    "    for ctp in ct_paths:\n",
    "        adata_ct_list = []\n",
    "        \n",
    "        # Load the specified genes\n",
    "        for p in partitions:\n",
    "            if verbose:\n",
    "                print(f\"Load {os.path.join(imputation_path, ctp, f'{p}.h5ad')}\")\n",
    "            \n",
    "            adata_ct_p = anndata.read_h5ad(os.path.join(imputation_path, ctp, f'{p}.h5ad'))\n",
    "            adata_ct_p = adata_ct_p[:, adata_ct_p.var.index.isin(genes)].copy()\n",
    "            adata_ct_list.append(adata_ct_p)\n",
    "          \n",
    "        adata_list.append(anndata.concat(adata_ct_list, axis=1, merge='first'))\n",
    "        \n",
    "    return anndata.concat(adata_list, axis=0)\n",
    "        "
   ]
  },
  {
   "cell_type": "code",
   "execution_count": 3,
   "id": "de63c1b5",
   "metadata": {},
   "outputs": [],
   "source": [
    "import scipy.spatial\n",
    "import diffxpy.api\n",
    "import statsmodels.stats.multitest\n",
    "\n",
    "def calc_distances_from_cells(query_df, ref_df, slice_col='slice_id', xy_cols=['center_x', 'center_y'],\n",
    "                             cis=False):\n",
    "    '''Calculate the distances from the reference cell types.'''\n",
    "\n",
    "    # Get the coordinates of the query cells and reference cells\n",
    "    query_coords = np.array(query_df[xy_cols])\n",
    "    ref_coords = np.array(ref_df[xy_cols])\n",
    "    \n",
    "    # Calculate distances from query cells to reference cells slice-by-slice\n",
    "    all_dists = np.array([np.nan] * query_df.shape[0], dtype=np.float32)    \n",
    "    slice_ids = np.unique(query_df[slice_col])\n",
    "    \n",
    "    for slice_id in slice_ids:\n",
    "        slice_mask_q = query_df[slice_col] == slice_id\n",
    "        slice_mask_r = ref_df[slice_col] == slice_id\n",
    "        \n",
    "        query_coords_slice = query_coords[slice_mask_q]\n",
    "        ref_coords_slice = ref_coords[slice_mask_r]\n",
    "    \n",
    "        # Skip if there is not enough cells in this slice\n",
    "        if (len(query_coords_slice) < 2) or (len(ref_coords_slice) < 2):\n",
    "            continue\n",
    "            \n",
    "        # Calculate the distances of K nearest neighbors\n",
    "        point_tree = scipy.spatial.cKDTree(ref_coords_slice)\n",
    "        \n",
    "        if cis:\n",
    "            distances, indices = point_tree.query(query_coords_slice, k=2)\n",
    "            distances = distances[:, 1]\n",
    "        else:\n",
    "            distances, indices = point_tree.query(query_coords_slice, k=1)\n",
    "            \n",
    "        all_dists[slice_mask_q] = distances\n",
    "        \n",
    "    return all_dists      \n",
    "        \n",
    "def calc_t_test_metrices_for_contact_cells(adata, dist_threshold):\n",
    "    group_label = np.array(['cell_type0'] * adata.shape[0])\n",
    "    group_label[adata.obs['dist_to_neighbor_type'] < dist_threshold] = 'cell_type1'\n",
    "        \n",
    "    print(f'N contact = {np.sum(group_label == \"cell_type1\")}')\n",
    "    print(f'N non-contact = {np.sum(group_label == \"cell_type0\")}')\n",
    "        \n",
    "    test_tt = diffxpy.api.test.t_test(data=adata, grouping=group_label)\n",
    "    \n",
    "    return test_tt.summary()"
   ]
  },
  {
   "cell_type": "code",
   "execution_count": 4,
   "id": "a6d0793b",
   "metadata": {},
   "outputs": [],
   "source": [
    "def get_cell_ids_within_dist_range(adata_obs, query_ct, ref_ct, ct_col, min_dist, max_dist, cis=False):\n",
    "    query_df = adata_obs[adata_obs[ct_col] == query_ct]\n",
    "    ref_df = adata_obs[adata_obs[ct_col] == ref_ct]\n",
    "    dists = calc_distances_from_cells(query_df, ref_df, cis=cis)\n",
    "    \n",
    "    return np.array(query_df[(dists > min_dist) & (dists < max_dist)].index)"
   ]
  },
  {
   "cell_type": "code",
   "execution_count": 5,
   "id": "a5afe38b",
   "metadata": {},
   "outputs": [
    {
     "name": "stdout",
     "output_type": "stream",
     "text": [
      "Cerebellum\n",
      "Cortical_subplate\n",
      "Fiber_tracts\n",
      "Hippocampus\n",
      "Isocortex\n",
      "Medulla\n",
      "Olfactory\n",
      "Pallidum\n",
      "Pons\n",
      "Striatum\n",
      "Thalamus\n",
      "Ventricular_systems\n",
      "anterior_HY\n",
      "anterior_MB\n",
      "posterior_HY\n",
      "posterior_MB\n"
     ]
    }
   ],
   "source": [
    "cell_by_region_path = '/home/xingjiepan/data/whole_brain/analysis/20230808_cell_cell_contacts/cells_by_regions'\n",
    "contact_path = '/home/xingjiepan/data/whole_brain/analysis/20230808_cell_cell_contacts/outputs_30um'\n",
    "\n",
    "\n",
    "major_brain_regions = ['Cerebellum', 'Cortical_subplate', 'Fiber_tracts', 'Hippocampus',\n",
    "       'Isocortex', 'Medulla', 'Olfactory', 'Pallidum', 'Pons', 'Striatum',\n",
    "       'Thalamus', 'Ventricular_systems', 'anterior_HY', 'anterior_MB',\n",
    "       'posterior_HY', 'posterior_MB']\n",
    "\n",
    "contact_pairs_by_region = {}\n",
    "all_contact_pairs = []\n",
    "contact_gene_enrichment_dicts = {}\n",
    "obs_of_region_dict = {}\n",
    "\n",
    "for region in major_brain_regions: \n",
    "    print(region)\n",
    "        \n",
    "    close_contact_subclass_df = pd.read_csv(os.path.join(contact_path, f'{region}_close_contacts.csv'))\n",
    "\n",
    "    contact_pairs_by_region[region] = [tuple(sorted(p)) for p in \n",
    "                                       close_contact_subclass_df[['cell_type1', 'cell_type2']].values]\n",
    "    \n",
    "    all_contact_pairs += contact_pairs_by_region[region]\n",
    "    \n",
    "    contact_gene_enrichment_dicts[region] = {'subclass_query': [], 'subclass_ref': [], 'gene': [], \n",
    "                                'contact_mean': [], 'control_mean': [], 'fold_change': [], 'pval': []}\n",
    "    \n",
    "    # Only keep the cells in the region\n",
    "    obs_of_region_dict[region] = pd.read_csv(os.path.join(cell_by_region_path, f'{region}.csv'), index_col=0)\n",
    "    \n",
    "all_contact_pairs = set(all_contact_pairs)"
   ]
  },
  {
   "cell_type": "code",
   "execution_count": 6,
   "id": "752c1069",
   "metadata": {},
   "outputs": [],
   "source": [
    "# Get the spatially contact cell types\n",
    "close_contact_subclass_dict = {}\n",
    "\n",
    "for ct1, ct2 in all_contact_pairs:\n",
    "    for ct11, ct22 in [(ct1, ct2), (ct2, ct1)]:\n",
    "        if not (ct11 in close_contact_subclass_dict):\n",
    "            close_contact_subclass_dict[ct11] = []\n",
    "        \n",
    "        if ct22 in close_contact_subclass_dict[ct11]:\n",
    "            continue\n",
    "        \n",
    "        close_contact_subclass_dict[ct11].append(ct22)"
   ]
  },
  {
   "cell_type": "code",
   "execution_count": 7,
   "id": "f0a561c7",
   "metadata": {},
   "outputs": [],
   "source": [
    "imputation_path = '/home/xingjiepan/data/whole_brain/analysis/20230723_final_integration/integration_workspace/gene_expression_imputation'\n",
    "# Load the highly variable genes\n",
    "import json\n",
    "\n",
    "with open('subclass_highly_variable_genes.json', 'r') as f:\n",
    "    hvg_dict = json.load(f)"
   ]
  },
  {
   "cell_type": "code",
   "execution_count": 8,
   "id": "d0ebca7d",
   "metadata": {
    "scrolled": true
   },
   "outputs": [
    {
     "name": "stdout",
     "output_type": "stream",
     "text": [
      "0/293, OPC NN\n",
      "1/293, Oligo NN\n",
      "2/293, L5/6 IT TPE-ENT Glut\n",
      "3/293, Sst Gaba\n",
      "4/293, LSX Sall3 Lmo1 Gaba\n",
      "5/293, AD Serpinb7 Glut\n",
      "6/293, Endo NN\n"
     ]
    },
    {
     "name": "stderr",
     "output_type": "stream",
     "text": [
      "<timed exec>:37: RuntimeWarning: invalid value encountered in divide\n",
      "<timed exec>:37: RuntimeWarning: invalid value encountered in divide\n"
     ]
    },
    {
     "name": "stdout",
     "output_type": "stream",
     "text": [
      "7/293, SC Tnnt1 Gli3 Gaba\n",
      "8/293, SNc-VTA-RAmb Foxa1 Dopa\n",
      "9/293, ENTmv-PA-COAp Glut\n"
     ]
    },
    {
     "name": "stderr",
     "output_type": "stream",
     "text": [
      "<timed exec>:37: RuntimeWarning: invalid value encountered in divide\n"
     ]
    },
    {
     "name": "stdout",
     "output_type": "stream",
     "text": [
      "10/293, PVHd-SBPV Six3 Prox1 Gaba\n",
      "11/293, Peri NN\n"
     ]
    },
    {
     "name": "stderr",
     "output_type": "stream",
     "text": [
      "<timed exec>:37: RuntimeWarning: divide by zero encountered in divide\n",
      "<timed exec>:37: RuntimeWarning: divide by zero encountered in divide\n",
      "<timed exec>:37: RuntimeWarning: divide by zero encountered in divide\n",
      "<timed exec>:37: RuntimeWarning: invalid value encountered in divide\n",
      "<timed exec>:37: RuntimeWarning: divide by zero encountered in divide\n"
     ]
    },
    {
     "name": "stdout",
     "output_type": "stream",
     "text": [
      "12/293, OB Eomes Ms4a15 Glut\n",
      "13/293, OB-STR-CTX Inh IMN\n",
      "14/293, OB-out Frmd7 Gaba\n",
      "15/293, PCG-PRNr Vsx2 Nkx6-1 Glut\n",
      "16/293, CUN-PPN Evx2 Meis2 Glut\n",
      "17/293, Vip Gaba\n",
      "18/293, STR D1 Gaba\n",
      "19/293, BAM NN\n"
     ]
    },
    {
     "name": "stderr",
     "output_type": "stream",
     "text": [
      "<timed exec>:37: RuntimeWarning: invalid value encountered in divide\n",
      "<timed exec>:37: RuntimeWarning: invalid value encountered in divide\n",
      "<timed exec>:37: RuntimeWarning: divide by zero encountered in divide\n",
      "<timed exec>:37: RuntimeWarning: divide by zero encountered in divide\n",
      "<timed exec>:37: RuntimeWarning: invalid value encountered in divide\n",
      "<timed exec>:37: RuntimeWarning: divide by zero encountered in divide\n",
      "<timed exec>:37: RuntimeWarning: invalid value encountered in divide\n",
      "<timed exec>:37: RuntimeWarning: invalid value encountered in divide\n",
      "<timed exec>:37: RuntimeWarning: divide by zero encountered in divide\n",
      "<timed exec>:37: RuntimeWarning: divide by zero encountered in divide\n",
      "<timed exec>:37: RuntimeWarning: invalid value encountered in divide\n",
      "<timed exec>:37: RuntimeWarning: divide by zero encountered in divide\n",
      "<timed exec>:37: RuntimeWarning: divide by zero encountered in divide\n",
      "<timed exec>:37: RuntimeWarning: divide by zero encountered in divide\n",
      "<timed exec>:37: RuntimeWarning: invalid value encountered in divide\n",
      "<timed exec>:37: RuntimeWarning: divide by zero encountered in divide\n",
      "<timed exec>:37: RuntimeWarning: divide by zero encountered in divide\n",
      "<timed exec>:37: RuntimeWarning: invalid value encountered in divide\n",
      "<timed exec>:37: RuntimeWarning: divide by zero encountered in divide\n",
      "<timed exec>:37: RuntimeWarning: divide by zero encountered in divide\n",
      "<timed exec>:37: RuntimeWarning: divide by zero encountered in divide\n",
      "<timed exec>:37: RuntimeWarning: divide by zero encountered in divide\n",
      "<timed exec>:37: RuntimeWarning: invalid value encountered in divide\n",
      "<timed exec>:37: RuntimeWarning: divide by zero encountered in divide\n",
      "<timed exec>:37: RuntimeWarning: invalid value encountered in divide\n",
      "<timed exec>:37: RuntimeWarning: divide by zero encountered in divide\n",
      "<timed exec>:37: RuntimeWarning: invalid value encountered in divide\n",
      "<timed exec>:37: RuntimeWarning: divide by zero encountered in divide\n",
      "<timed exec>:37: RuntimeWarning: divide by zero encountered in divide\n",
      "<timed exec>:37: RuntimeWarning: divide by zero encountered in divide\n",
      "<timed exec>:37: RuntimeWarning: invalid value encountered in divide\n",
      "<timed exec>:37: RuntimeWarning: divide by zero encountered in divide\n",
      "<timed exec>:37: RuntimeWarning: invalid value encountered in divide\n",
      "<timed exec>:37: RuntimeWarning: invalid value encountered in divide\n",
      "<timed exec>:37: RuntimeWarning: divide by zero encountered in divide\n"
     ]
    },
    {
     "name": "stdout",
     "output_type": "stream",
     "text": [
      "20/293, SCsg Pde5a Glut\n",
      "21/293, Lamp5 Gaba\n",
      "22/293, ABC NN\n"
     ]
    },
    {
     "name": "stderr",
     "output_type": "stream",
     "text": [
      "<timed exec>:37: RuntimeWarning: invalid value encountered in divide\n",
      "<timed exec>:37: RuntimeWarning: divide by zero encountered in divide\n",
      "<timed exec>:37: RuntimeWarning: invalid value encountered in divide\n",
      "<timed exec>:37: RuntimeWarning: divide by zero encountered in divide\n",
      "<timed exec>:37: RuntimeWarning: invalid value encountered in divide\n",
      "<timed exec>:37: RuntimeWarning: invalid value encountered in divide\n",
      "<timed exec>:37: RuntimeWarning: invalid value encountered in divide\n",
      "<timed exec>:37: RuntimeWarning: invalid value encountered in divide\n",
      "<timed exec>:37: RuntimeWarning: divide by zero encountered in divide\n",
      "<timed exec>:37: RuntimeWarning: invalid value encountered in divide\n",
      "<timed exec>:37: RuntimeWarning: invalid value encountered in divide\n",
      "<timed exec>:37: RuntimeWarning: invalid value encountered in divide\n",
      "<timed exec>:37: RuntimeWarning: invalid value encountered in divide\n",
      "<timed exec>:37: RuntimeWarning: invalid value encountered in divide\n",
      "<timed exec>:37: RuntimeWarning: divide by zero encountered in divide\n",
      "<timed exec>:37: RuntimeWarning: invalid value encountered in divide\n",
      "<timed exec>:37: RuntimeWarning: invalid value encountered in divide\n",
      "<timed exec>:37: RuntimeWarning: invalid value encountered in divide\n",
      "<timed exec>:37: RuntimeWarning: invalid value encountered in divide\n",
      "<timed exec>:37: RuntimeWarning: divide by zero encountered in divide\n",
      "<timed exec>:37: RuntimeWarning: divide by zero encountered in divide\n",
      "<timed exec>:37: RuntimeWarning: invalid value encountered in divide\n",
      "<timed exec>:37: RuntimeWarning: invalid value encountered in divide\n",
      "<timed exec>:37: RuntimeWarning: invalid value encountered in divide\n",
      "<timed exec>:37: RuntimeWarning: divide by zero encountered in divide\n",
      "<timed exec>:37: RuntimeWarning: divide by zero encountered in divide\n",
      "<timed exec>:37: RuntimeWarning: invalid value encountered in divide\n",
      "<timed exec>:37: RuntimeWarning: divide by zero encountered in divide\n",
      "<timed exec>:37: RuntimeWarning: invalid value encountered in divide\n",
      "<timed exec>:37: RuntimeWarning: divide by zero encountered in divide\n",
      "<timed exec>:37: RuntimeWarning: invalid value encountered in divide\n",
      "<timed exec>:37: RuntimeWarning: divide by zero encountered in divide\n",
      "<timed exec>:37: RuntimeWarning: invalid value encountered in divide\n",
      "<timed exec>:37: RuntimeWarning: divide by zero encountered in divide\n",
      "<timed exec>:37: RuntimeWarning: invalid value encountered in divide\n",
      "<timed exec>:37: RuntimeWarning: invalid value encountered in divide\n",
      "<timed exec>:37: RuntimeWarning: divide by zero encountered in divide\n",
      "<timed exec>:37: RuntimeWarning: invalid value encountered in divide\n",
      "<timed exec>:37: RuntimeWarning: divide by zero encountered in divide\n"
     ]
    },
    {
     "name": "stdout",
     "output_type": "stream",
     "text": [
      "23/293, Lymphoid NN\n"
     ]
    },
    {
     "name": "stderr",
     "output_type": "stream",
     "text": [
      "<timed exec>:37: RuntimeWarning: divide by zero encountered in divide\n",
      "<timed exec>:37: RuntimeWarning: invalid value encountered in divide\n",
      "<timed exec>:37: RuntimeWarning: invalid value encountered in divide\n",
      "<timed exec>:37: RuntimeWarning: divide by zero encountered in divide\n",
      "<timed exec>:37: RuntimeWarning: invalid value encountered in divide\n",
      "<timed exec>:37: RuntimeWarning: divide by zero encountered in divide\n",
      "<timed exec>:37: RuntimeWarning: invalid value encountered in divide\n",
      "<timed exec>:37: RuntimeWarning: invalid value encountered in divide\n",
      "<timed exec>:37: RuntimeWarning: invalid value encountered in divide\n",
      "<timed exec>:37: RuntimeWarning: invalid value encountered in divide\n",
      "<timed exec>:37: RuntimeWarning: invalid value encountered in divide\n",
      "<timed exec>:37: RuntimeWarning: divide by zero encountered in divide\n",
      "<timed exec>:37: RuntimeWarning: invalid value encountered in divide\n",
      "<timed exec>:37: RuntimeWarning: divide by zero encountered in divide\n",
      "<timed exec>:37: RuntimeWarning: invalid value encountered in divide\n",
      "<timed exec>:37: RuntimeWarning: divide by zero encountered in divide\n",
      "<timed exec>:37: RuntimeWarning: invalid value encountered in divide\n",
      "<timed exec>:37: RuntimeWarning: divide by zero encountered in divide\n",
      "<timed exec>:37: RuntimeWarning: invalid value encountered in divide\n",
      "<timed exec>:37: RuntimeWarning: divide by zero encountered in divide\n",
      "<timed exec>:37: RuntimeWarning: invalid value encountered in divide\n",
      "<timed exec>:37: RuntimeWarning: invalid value encountered in divide\n",
      "<timed exec>:37: RuntimeWarning: divide by zero encountered in divide\n",
      "<timed exec>:37: RuntimeWarning: invalid value encountered in divide\n",
      "<timed exec>:37: RuntimeWarning: invalid value encountered in divide\n",
      "<timed exec>:37: RuntimeWarning: divide by zero encountered in divide\n",
      "<timed exec>:37: RuntimeWarning: invalid value encountered in divide\n",
      "<timed exec>:37: RuntimeWarning: invalid value encountered in divide\n",
      "<timed exec>:37: RuntimeWarning: divide by zero encountered in divide\n",
      "<timed exec>:37: RuntimeWarning: invalid value encountered in divide\n",
      "<timed exec>:37: RuntimeWarning: divide by zero encountered in divide\n",
      "<timed exec>:37: RuntimeWarning: invalid value encountered in divide\n",
      "<timed exec>:37: RuntimeWarning: divide by zero encountered in divide\n",
      "<timed exec>:37: RuntimeWarning: invalid value encountered in divide\n",
      "<timed exec>:37: RuntimeWarning: divide by zero encountered in divide\n",
      "<timed exec>:37: RuntimeWarning: invalid value encountered in divide\n",
      "<timed exec>:37: RuntimeWarning: divide by zero encountered in divide\n",
      "<timed exec>:37: RuntimeWarning: invalid value encountered in divide\n",
      "<timed exec>:37: RuntimeWarning: divide by zero encountered in divide\n",
      "<timed exec>:37: RuntimeWarning: invalid value encountered in divide\n",
      "<timed exec>:37: RuntimeWarning: divide by zero encountered in divide\n",
      "<timed exec>:37: RuntimeWarning: invalid value encountered in divide\n",
      "<timed exec>:37: RuntimeWarning: divide by zero encountered in divide\n",
      "<timed exec>:37: RuntimeWarning: invalid value encountered in divide\n",
      "<timed exec>:37: RuntimeWarning: divide by zero encountered in divide\n",
      "<timed exec>:37: RuntimeWarning: invalid value encountered in divide\n",
      "<timed exec>:37: RuntimeWarning: divide by zero encountered in divide\n",
      "<timed exec>:37: RuntimeWarning: invalid value encountered in divide\n",
      "<timed exec>:37: RuntimeWarning: divide by zero encountered in divide\n",
      "<timed exec>:37: RuntimeWarning: invalid value encountered in divide\n",
      "<timed exec>:37: RuntimeWarning: invalid value encountered in divide\n",
      "<timed exec>:37: RuntimeWarning: invalid value encountered in divide\n",
      "<timed exec>:37: RuntimeWarning: divide by zero encountered in divide\n",
      "<timed exec>:37: RuntimeWarning: invalid value encountered in divide\n",
      "<timed exec>:37: RuntimeWarning: divide by zero encountered in divide\n",
      "<timed exec>:37: RuntimeWarning: invalid value encountered in divide\n",
      "<timed exec>:37: RuntimeWarning: divide by zero encountered in divide\n",
      "<timed exec>:37: RuntimeWarning: invalid value encountered in divide\n",
      "<timed exec>:37: RuntimeWarning: divide by zero encountered in divide\n",
      "<timed exec>:37: RuntimeWarning: invalid value encountered in divide\n",
      "<timed exec>:37: RuntimeWarning: divide by zero encountered in divide\n",
      "<timed exec>:37: RuntimeWarning: invalid value encountered in divide\n",
      "<timed exec>:37: RuntimeWarning: divide by zero encountered in divide\n",
      "<timed exec>:37: RuntimeWarning: invalid value encountered in divide\n",
      "<timed exec>:37: RuntimeWarning: divide by zero encountered in divide\n",
      "<timed exec>:37: RuntimeWarning: invalid value encountered in divide\n",
      "<timed exec>:37: RuntimeWarning: divide by zero encountered in divide\n",
      "<timed exec>:37: RuntimeWarning: invalid value encountered in divide\n",
      "<timed exec>:37: RuntimeWarning: divide by zero encountered in divide\n",
      "<timed exec>:37: RuntimeWarning: invalid value encountered in divide\n",
      "<timed exec>:37: RuntimeWarning: divide by zero encountered in divide\n",
      "<timed exec>:37: RuntimeWarning: invalid value encountered in divide\n",
      "<timed exec>:37: RuntimeWarning: divide by zero encountered in divide\n",
      "<timed exec>:37: RuntimeWarning: invalid value encountered in divide\n",
      "<timed exec>:37: RuntimeWarning: divide by zero encountered in divide\n",
      "<timed exec>:37: RuntimeWarning: invalid value encountered in divide\n",
      "<timed exec>:37: RuntimeWarning: invalid value encountered in divide\n",
      "<timed exec>:37: RuntimeWarning: divide by zero encountered in divide\n",
      "<timed exec>:37: RuntimeWarning: invalid value encountered in divide\n",
      "<timed exec>:37: RuntimeWarning: invalid value encountered in divide\n"
     ]
    },
    {
     "name": "stdout",
     "output_type": "stream",
     "text": [
      "24/293, SPA-SPFm-SPFp-POL-PIL-PoT Sp9 Glut\n",
      "25/293, Lamp5 Lhx6 Gaba\n",
      "26/293, RHP-COA Ndnf Gaba\n",
      "27/293, SCig-an-PPT Foxb1 Glut\n",
      "28/293, MEA Slc17a7 Glut\n",
      "29/293, LHA-AHN-PVH Otp Trh Glut\n",
      "30/293, ARH-PVp Tbx3 Glut\n",
      "31/293, DMH-LHA Gsx1 Gaba\n",
      "32/293, AV Col27a1 Glut\n",
      "33/293, CT SUB Glut\n",
      "34/293, NP SUB Glut\n",
      "35/293, MY Lhx1 Gly-Gaba\n",
      "36/293, L2/3 IT CTX Glut\n",
      "37/293, L2/3 IT RSP Glut\n",
      "38/293, CA3 Glut\n",
      "39/293, Pvalb chandelier Gaba\n",
      "40/293, Microglia NN\n",
      "41/293, Astro-NT NN\n",
      "42/293, DCO UBC Glut\n",
      "43/293, LSX Prdm12 Slit2 Gaba\n",
      "44/293, Astro-OLF NN\n",
      "45/293, SMC NN\n",
      "46/293, VLMC NN\n"
     ]
    },
    {
     "name": "stderr",
     "output_type": "stream",
     "text": [
      "<timed exec>:37: RuntimeWarning: divide by zero encountered in divide\n",
      "<timed exec>:37: RuntimeWarning: invalid value encountered in divide\n",
      "<timed exec>:37: RuntimeWarning: invalid value encountered in divide\n",
      "<timed exec>:37: RuntimeWarning: divide by zero encountered in divide\n",
      "<timed exec>:37: RuntimeWarning: invalid value encountered in divide\n",
      "<timed exec>:37: RuntimeWarning: divide by zero encountered in divide\n",
      "<timed exec>:37: RuntimeWarning: invalid value encountered in divide\n",
      "<timed exec>:37: RuntimeWarning: invalid value encountered in divide\n",
      "<timed exec>:37: RuntimeWarning: divide by zero encountered in divide\n",
      "<timed exec>:37: RuntimeWarning: invalid value encountered in divide\n",
      "<timed exec>:37: RuntimeWarning: invalid value encountered in divide\n",
      "<timed exec>:37: RuntimeWarning: divide by zero encountered in divide\n",
      "<timed exec>:37: RuntimeWarning: divide by zero encountered in divide\n",
      "<timed exec>:37: RuntimeWarning: invalid value encountered in divide\n",
      "<timed exec>:37: RuntimeWarning: invalid value encountered in divide\n"
     ]
    },
    {
     "name": "stdout",
     "output_type": "stream",
     "text": [
      "47/293, PAG Pou4f2 Mesi2 Glut\n",
      "48/293, OT D3 Folh1 Gaba\n",
      "49/293, PAL-STR Gaba-Chol\n",
      "50/293, SCs Pax7 Nfia Gaba\n",
      "51/293, CB PLI Gly-Gaba\n",
      "52/293, CBX Golgi Gly-Gaba\n"
     ]
    },
    {
     "name": "stderr",
     "output_type": "stream",
     "text": [
      "<timed exec>:37: RuntimeWarning: divide by zero encountered in divide\n"
     ]
    },
    {
     "name": "stdout",
     "output_type": "stream",
     "text": [
      "53/293, MPO-ADP Lhx8 Gaba\n",
      "54/293, OEC NN\n"
     ]
    },
    {
     "name": "stderr",
     "output_type": "stream",
     "text": [
      "<timed exec>:37: RuntimeWarning: invalid value encountered in divide\n",
      "<timed exec>:37: RuntimeWarning: invalid value encountered in divide\n",
      "<timed exec>:37: RuntimeWarning: invalid value encountered in divide\n",
      "<timed exec>:37: RuntimeWarning: invalid value encountered in divide\n",
      "<timed exec>:37: RuntimeWarning: invalid value encountered in divide\n",
      "<timed exec>:37: RuntimeWarning: divide by zero encountered in divide\n",
      "<timed exec>:37: RuntimeWarning: invalid value encountered in divide\n",
      "<timed exec>:37: RuntimeWarning: divide by zero encountered in divide\n",
      "<timed exec>:37: RuntimeWarning: invalid value encountered in divide\n",
      "<timed exec>:37: RuntimeWarning: invalid value encountered in divide\n",
      "<timed exec>:37: RuntimeWarning: invalid value encountered in divide\n",
      "<timed exec>:37: RuntimeWarning: invalid value encountered in divide\n",
      "<timed exec>:37: RuntimeWarning: invalid value encountered in divide\n",
      "<timed exec>:37: RuntimeWarning: invalid value encountered in divide\n",
      "<timed exec>:37: RuntimeWarning: invalid value encountered in divide\n",
      "<timed exec>:37: RuntimeWarning: invalid value encountered in divide\n",
      "<timed exec>:37: RuntimeWarning: invalid value encountered in divide\n",
      "<timed exec>:37: RuntimeWarning: invalid value encountered in divide\n",
      "<timed exec>:37: RuntimeWarning: divide by zero encountered in divide\n",
      "<timed exec>:37: RuntimeWarning: invalid value encountered in divide\n"
     ]
    },
    {
     "name": "stdout",
     "output_type": "stream",
     "text": [
      "55/293, TMv-PMv Tbx3 Hist-Gaba\n",
      "56/293, AVPV-MEPO-SFO Tbr1 Glut\n"
     ]
    },
    {
     "name": "stderr",
     "output_type": "stream",
     "text": [
      "<timed exec>:37: RuntimeWarning: divide by zero encountered in divide\n",
      "<timed exec>:37: RuntimeWarning: invalid value encountered in divide\n",
      "<timed exec>:37: RuntimeWarning: divide by zero encountered in divide\n"
     ]
    },
    {
     "name": "stdout",
     "output_type": "stream",
     "text": [
      "57/293, SPVI-SPVC Sall3 Lhx1 Gly-Gaba\n",
      "58/293, CLA-EPd-CTX Car3 Glut\n",
      "59/293, PPY-PGRNl Vip Glyc-Gaba\n",
      "60/293, ARH-PVp Tbx3 Gaba\n"
     ]
    },
    {
     "name": "stderr",
     "output_type": "stream",
     "text": [
      "<timed exec>:37: RuntimeWarning: divide by zero encountered in divide\n",
      "<timed exec>:37: RuntimeWarning: divide by zero encountered in divide\n"
     ]
    },
    {
     "name": "stdout",
     "output_type": "stream",
     "text": [
      "61/293, TU-ARH Otp Six6 Gaba\n"
     ]
    },
    {
     "name": "stderr",
     "output_type": "stream",
     "text": [
      "<timed exec>:37: RuntimeWarning: divide by zero encountered in divide\n"
     ]
    },
    {
     "name": "stdout",
     "output_type": "stream",
     "text": [
      "62/293, PH-SUM Foxa1 Glut\n",
      "63/293, CA1-ProS Glut\n",
      "64/293, LDT-PCG St18 Gaba\n",
      "65/293, LDT-PCG Vsx2 Lhx4 Glut\n",
      "66/293, OB Dopa-Gaba\n",
      "67/293, Astro-TE NN\n",
      "68/293, TRS-BAC Sln Glut\n"
     ]
    },
    {
     "name": "stderr",
     "output_type": "stream",
     "text": [
      "<timed exec>:37: RuntimeWarning: divide by zero encountered in divide\n",
      "<timed exec>:37: RuntimeWarning: divide by zero encountered in divide\n"
     ]
    },
    {
     "name": "stdout",
     "output_type": "stream",
     "text": [
      "69/293, CHOR NN\n"
     ]
    },
    {
     "name": "stderr",
     "output_type": "stream",
     "text": [
      "<timed exec>:37: RuntimeWarning: invalid value encountered in divide\n",
      "<timed exec>:37: RuntimeWarning: invalid value encountered in divide\n",
      "<timed exec>:37: RuntimeWarning: invalid value encountered in divide\n",
      "<timed exec>:37: RuntimeWarning: invalid value encountered in divide\n",
      "<timed exec>:37: RuntimeWarning: invalid value encountered in divide\n",
      "<timed exec>:37: RuntimeWarning: invalid value encountered in divide\n",
      "<timed exec>:37: RuntimeWarning: invalid value encountered in divide\n",
      "<timed exec>:37: RuntimeWarning: invalid value encountered in divide\n",
      "<timed exec>:37: RuntimeWarning: invalid value encountered in divide\n",
      "<timed exec>:37: RuntimeWarning: invalid value encountered in divide\n",
      "<timed exec>:37: RuntimeWarning: invalid value encountered in divide\n",
      "<timed exec>:37: RuntimeWarning: divide by zero encountered in divide\n",
      "<timed exec>:37: RuntimeWarning: invalid value encountered in divide\n",
      "<timed exec>:37: RuntimeWarning: invalid value encountered in divide\n",
      "<timed exec>:37: RuntimeWarning: invalid value encountered in divide\n",
      "<timed exec>:37: RuntimeWarning: invalid value encountered in divide\n",
      "<timed exec>:37: RuntimeWarning: invalid value encountered in divide\n",
      "<timed exec>:37: RuntimeWarning: invalid value encountered in divide\n",
      "<timed exec>:37: RuntimeWarning: invalid value encountered in divide\n",
      "<timed exec>:37: RuntimeWarning: invalid value encountered in divide\n",
      "<timed exec>:37: RuntimeWarning: invalid value encountered in divide\n",
      "<timed exec>:37: RuntimeWarning: invalid value encountered in divide\n",
      "<timed exec>:37: RuntimeWarning: invalid value encountered in divide\n",
      "<timed exec>:37: RuntimeWarning: invalid value encountered in divide\n",
      "<timed exec>:37: RuntimeWarning: invalid value encountered in divide\n",
      "<timed exec>:37: RuntimeWarning: invalid value encountered in divide\n",
      "<timed exec>:37: RuntimeWarning: invalid value encountered in divide\n",
      "<timed exec>:37: RuntimeWarning: invalid value encountered in divide\n",
      "<timed exec>:37: RuntimeWarning: invalid value encountered in divide\n",
      "<timed exec>:37: RuntimeWarning: divide by zero encountered in divide\n",
      "<timed exec>:37: RuntimeWarning: invalid value encountered in divide\n",
      "<timed exec>:37: RuntimeWarning: divide by zero encountered in divide\n",
      "<timed exec>:37: RuntimeWarning: invalid value encountered in divide\n",
      "<timed exec>:37: RuntimeWarning: divide by zero encountered in divide\n",
      "<timed exec>:37: RuntimeWarning: invalid value encountered in divide\n",
      "<timed exec>:37: RuntimeWarning: divide by zero encountered in divide\n",
      "<timed exec>:37: RuntimeWarning: invalid value encountered in divide\n",
      "<timed exec>:37: RuntimeWarning: divide by zero encountered in divide\n",
      "<timed exec>:37: RuntimeWarning: invalid value encountered in divide\n",
      "<timed exec>:37: RuntimeWarning: invalid value encountered in divide\n",
      "<timed exec>:37: RuntimeWarning: invalid value encountered in divide\n",
      "<timed exec>:37: RuntimeWarning: invalid value encountered in divide\n",
      "<timed exec>:37: RuntimeWarning: divide by zero encountered in divide\n",
      "<timed exec>:37: RuntimeWarning: invalid value encountered in divide\n",
      "<timed exec>:37: RuntimeWarning: invalid value encountered in divide\n",
      "<timed exec>:37: RuntimeWarning: invalid value encountered in divide\n",
      "<timed exec>:37: RuntimeWarning: invalid value encountered in divide\n"
     ]
    },
    {
     "name": "stdout",
     "output_type": "stream",
     "text": [
      "70/293, CB Granule Glut\n",
      "71/293, STR-PAL Chst9 Gaba\n",
      "72/293, BST-MPN Six3 Nrgn Gaba\n",
      "73/293, OB Meis2 Thsd7b Gaba\n",
      "74/293, L5 PPP Glut\n",
      "75/293, NP PPP Glut\n",
      "76/293, POR Spp1 Gly-Gaba\n"
     ]
    },
    {
     "name": "stderr",
     "output_type": "stream",
     "text": [
      "<timed exec>:37: RuntimeWarning: divide by zero encountered in divide\n",
      "<timed exec>:37: RuntimeWarning: invalid value encountered in divide\n"
     ]
    },
    {
     "name": "stdout",
     "output_type": "stream",
     "text": [
      "77/293, L2 IT ENT-po Glut\n",
      "78/293, IO Fgl2 Glut\n"
     ]
    },
    {
     "name": "stderr",
     "output_type": "stream",
     "text": [
      "<timed exec>:37: RuntimeWarning: divide by zero encountered in divide\n"
     ]
    },
    {
     "name": "stdout",
     "output_type": "stream",
     "text": [
      "79/293, LA-BLA-BMA-PA Glut\n",
      "80/293, Astroependymal NN\n"
     ]
    },
    {
     "name": "stderr",
     "output_type": "stream",
     "text": [
      "<timed exec>:37: RuntimeWarning: divide by zero encountered in divide\n",
      "<timed exec>:37: RuntimeWarning: invalid value encountered in divide\n",
      "<timed exec>:37: RuntimeWarning: divide by zero encountered in divide\n",
      "<timed exec>:37: RuntimeWarning: invalid value encountered in divide\n",
      "<timed exec>:37: RuntimeWarning: divide by zero encountered in divide\n",
      "<timed exec>:37: RuntimeWarning: divide by zero encountered in divide\n",
      "<timed exec>:37: RuntimeWarning: invalid value encountered in divide\n",
      "<timed exec>:37: RuntimeWarning: divide by zero encountered in divide\n",
      "<timed exec>:37: RuntimeWarning: invalid value encountered in divide\n",
      "<timed exec>:37: RuntimeWarning: divide by zero encountered in divide\n",
      "<timed exec>:37: RuntimeWarning: invalid value encountered in divide\n",
      "<timed exec>:37: RuntimeWarning: divide by zero encountered in divide\n",
      "<timed exec>:37: RuntimeWarning: invalid value encountered in divide\n",
      "<timed exec>:37: RuntimeWarning: divide by zero encountered in divide\n",
      "<timed exec>:37: RuntimeWarning: invalid value encountered in divide\n",
      "<timed exec>:37: RuntimeWarning: divide by zero encountered in divide\n",
      "<timed exec>:37: RuntimeWarning: invalid value encountered in divide\n",
      "<timed exec>:37: RuntimeWarning: invalid value encountered in divide\n",
      "<timed exec>:37: RuntimeWarning: divide by zero encountered in divide\n",
      "<timed exec>:37: RuntimeWarning: invalid value encountered in divide\n",
      "<timed exec>:37: RuntimeWarning: divide by zero encountered in divide\n",
      "<timed exec>:37: RuntimeWarning: invalid value encountered in divide\n",
      "<timed exec>:37: RuntimeWarning: divide by zero encountered in divide\n",
      "<timed exec>:37: RuntimeWarning: invalid value encountered in divide\n",
      "<timed exec>:37: RuntimeWarning: divide by zero encountered in divide\n",
      "<timed exec>:37: RuntimeWarning: invalid value encountered in divide\n",
      "<timed exec>:37: RuntimeWarning: divide by zero encountered in divide\n",
      "<timed exec>:37: RuntimeWarning: invalid value encountered in divide\n",
      "<timed exec>:37: RuntimeWarning: invalid value encountered in divide\n",
      "<timed exec>:37: RuntimeWarning: divide by zero encountered in divide\n",
      "<timed exec>:37: RuntimeWarning: invalid value encountered in divide\n",
      "<timed exec>:37: RuntimeWarning: divide by zero encountered in divide\n",
      "<timed exec>:37: RuntimeWarning: invalid value encountered in divide\n",
      "<timed exec>:37: RuntimeWarning: divide by zero encountered in divide\n",
      "<timed exec>:37: RuntimeWarning: invalid value encountered in divide\n",
      "<timed exec>:37: RuntimeWarning: invalid value encountered in divide\n",
      "<timed exec>:37: RuntimeWarning: divide by zero encountered in divide\n",
      "<timed exec>:37: RuntimeWarning: invalid value encountered in divide\n",
      "<timed exec>:37: RuntimeWarning: divide by zero encountered in divide\n",
      "<timed exec>:37: RuntimeWarning: invalid value encountered in divide\n"
     ]
    },
    {
     "name": "stdout",
     "output_type": "stream",
     "text": [
      "81/293, STR D1 Sema5a Gaba\n",
      "82/293, MM-ant Foxb1 Glut\n"
     ]
    },
    {
     "name": "stderr",
     "output_type": "stream",
     "text": [
      "<timed exec>:37: RuntimeWarning: divide by zero encountered in divide\n",
      "<timed exec>:37: RuntimeWarning: invalid value encountered in divide\n",
      "<timed exec>:37: RuntimeWarning: invalid value encountered in divide\n",
      "<timed exec>:37: RuntimeWarning: divide by zero encountered in divide\n",
      "<timed exec>:37: RuntimeWarning: invalid value encountered in divide\n"
     ]
    },
    {
     "name": "stdout",
     "output_type": "stream",
     "text": [
      "83/293, L2/3 IT PIR-ENTl Glut\n",
      "84/293, Astro-CB NN\n"
     ]
    },
    {
     "name": "stderr",
     "output_type": "stream",
     "text": [
      "<timed exec>:37: RuntimeWarning: divide by zero encountered in divide\n",
      "<timed exec>:37: RuntimeWarning: divide by zero encountered in divide\n",
      "<timed exec>:37: RuntimeWarning: invalid value encountered in divide\n"
     ]
    },
    {
     "name": "stdout",
     "output_type": "stream",
     "text": [
      "85/293, PVR Six3 Sox3 Gaba\n"
     ]
    },
    {
     "name": "stderr",
     "output_type": "stream",
     "text": [
      "<timed exec>:37: RuntimeWarning: divide by zero encountered in divide\n"
     ]
    },
    {
     "name": "stdout",
     "output_type": "stream",
     "text": [
      "86/293, PVpo-VMPO-MPN Hmx2 Gaba\n",
      "87/293, PB-PSV Phox2b Glut\n"
     ]
    },
    {
     "name": "stderr",
     "output_type": "stream",
     "text": [
      "<timed exec>:37: RuntimeWarning: divide by zero encountered in divide\n",
      "<timed exec>:37: RuntimeWarning: invalid value encountered in divide\n"
     ]
    },
    {
     "name": "stdout",
     "output_type": "stream",
     "text": [
      "88/293, PRT Tcf7l2 Gaba\n",
      "89/293, SC Lef1 Otx2 Gaba\n",
      "90/293, CBX MLI Megf11 Gaba\n",
      "91/293, CBX MLI Cdh22 Gaba\n",
      "92/293, SC Otx2 Gcnt4 Gaba\n"
     ]
    },
    {
     "name": "stderr",
     "output_type": "stream",
     "text": [
      "<timed exec>:37: RuntimeWarning: invalid value encountered in divide\n",
      "<timed exec>:37: RuntimeWarning: invalid value encountered in divide\n"
     ]
    },
    {
     "name": "stdout",
     "output_type": "stream",
     "text": [
      "93/293, SCsg Gabrr2 Gaba\n",
      "94/293, CA2-FC-IG Glut\n",
      "95/293, LDT Fgf7 Gaba\n"
     ]
    },
    {
     "name": "stderr",
     "output_type": "stream",
     "text": [
      "<timed exec>:37: RuntimeWarning: divide by zero encountered in divide\n"
     ]
    },
    {
     "name": "stdout",
     "output_type": "stream",
     "text": [
      "96/293, STN-PSTN Pitx2 Glut\n",
      "97/293, DG-PIR Ex IMN\n"
     ]
    },
    {
     "name": "stderr",
     "output_type": "stream",
     "text": [
      "<timed exec>:37: RuntimeWarning: divide by zero encountered in divide\n",
      "<timed exec>:37: RuntimeWarning: divide by zero encountered in divide\n",
      "<timed exec>:37: RuntimeWarning: divide by zero encountered in divide\n",
      "<timed exec>:37: RuntimeWarning: invalid value encountered in divide\n",
      "<timed exec>:37: RuntimeWarning: divide by zero encountered in divide\n",
      "<timed exec>:37: RuntimeWarning: invalid value encountered in divide\n"
     ]
    },
    {
     "name": "stdout",
     "output_type": "stream",
     "text": [
      "98/293, DMH Nkx2-4 Glut\n",
      "99/293, TMd-DMH Foxd2 Gaba\n",
      "100/293, MH Tac2 Glut\n",
      "101/293, SPVC Ccdc172 Glut\n"
     ]
    },
    {
     "name": "stderr",
     "output_type": "stream",
     "text": [
      "<timed exec>:37: RuntimeWarning: divide by zero encountered in divide\n",
      "<timed exec>:37: RuntimeWarning: invalid value encountered in divide\n",
      "<timed exec>:37: RuntimeWarning: divide by zero encountered in divide\n",
      "<timed exec>:37: RuntimeWarning: invalid value encountered in divide\n",
      "<timed exec>:37: RuntimeWarning: invalid value encountered in divide\n"
     ]
    },
    {
     "name": "stdout",
     "output_type": "stream",
     "text": [
      "102/293, SPVI-SPVC Tlx3 Ebf3 Glut\n",
      "103/293, SPVI-SPVC Sall3 Nfib Gly-Gaba\n",
      "104/293, NLL Gata3 Gly-Gaba\n",
      "105/293, L6b/CT ENT Glut\n",
      "106/293, IA Mgp Gaba\n"
     ]
    },
    {
     "name": "stderr",
     "output_type": "stream",
     "text": [
      "<timed exec>:37: RuntimeWarning: divide by zero encountered in divide\n",
      "<timed exec>:37: RuntimeWarning: invalid value encountered in divide\n",
      "<timed exec>:37: RuntimeWarning: divide by zero encountered in divide\n",
      "<timed exec>:37: RuntimeWarning: invalid value encountered in divide\n"
     ]
    },
    {
     "name": "stdout",
     "output_type": "stream",
     "text": [
      "107/293, OB Trdn Gaba\n"
     ]
    },
    {
     "name": "stderr",
     "output_type": "stream",
     "text": [
      "<timed exec>:37: RuntimeWarning: divide by zero encountered in divide\n"
     ]
    },
    {
     "name": "stdout",
     "output_type": "stream",
     "text": [
      "108/293, IT EP-CLA Glut\n",
      "109/293, STR D2 Gaba\n",
      "110/293, Ependymal NN\n"
     ]
    },
    {
     "name": "stderr",
     "output_type": "stream",
     "text": [
      "<timed exec>:37: RuntimeWarning: divide by zero encountered in divide\n",
      "<timed exec>:37: RuntimeWarning: invalid value encountered in divide\n",
      "<timed exec>:37: RuntimeWarning: divide by zero encountered in divide\n",
      "<timed exec>:37: RuntimeWarning: invalid value encountered in divide\n",
      "<timed exec>:37: RuntimeWarning: divide by zero encountered in divide\n",
      "<timed exec>:37: RuntimeWarning: invalid value encountered in divide\n",
      "<timed exec>:37: RuntimeWarning: divide by zero encountered in divide\n",
      "<timed exec>:37: RuntimeWarning: invalid value encountered in divide\n",
      "<timed exec>:37: RuntimeWarning: divide by zero encountered in divide\n",
      "<timed exec>:37: RuntimeWarning: invalid value encountered in divide\n",
      "<timed exec>:37: RuntimeWarning: divide by zero encountered in divide\n",
      "<timed exec>:37: RuntimeWarning: invalid value encountered in divide\n",
      "<timed exec>:37: RuntimeWarning: divide by zero encountered in divide\n",
      "<timed exec>:37: RuntimeWarning: divide by zero encountered in divide\n",
      "<timed exec>:37: RuntimeWarning: divide by zero encountered in divide\n",
      "<timed exec>:37: RuntimeWarning: divide by zero encountered in divide\n",
      "<timed exec>:37: RuntimeWarning: divide by zero encountered in divide\n"
     ]
    },
    {
     "name": "stdout",
     "output_type": "stream",
     "text": [
      "111/293, PRP-NI-PRNc-GRN Otp Glut\n"
     ]
    },
    {
     "name": "stderr",
     "output_type": "stream",
     "text": [
      "<timed exec>:37: RuntimeWarning: invalid value encountered in divide\n",
      "<timed exec>:37: RuntimeWarning: invalid value encountered in divide\n"
     ]
    },
    {
     "name": "stdout",
     "output_type": "stream",
     "text": [
      "112/293, DMH Hmx2 Gaba\n",
      "113/293, L6 IT CTX Glut\n",
      "114/293, L5 NP CTX Glut\n",
      "115/293, DG Glut\n",
      "116/293, L5 ET CTX Glut\n",
      "117/293, Pvalb Gaba\n",
      "118/293, PARN-MDRNd-NTS Gbx2 Gly-Gaba\n",
      "119/293, PH Pitx2 Glut\n",
      "120/293, IC Six3 En2 Gaba\n",
      "121/293, MRN-VTN-PPN Pax5 Cdh23 Gaba\n",
      "122/293, PAG Pou4f1 Ebf2 Glut\n",
      "123/293, Hypendymal NN\n"
     ]
    },
    {
     "name": "stderr",
     "output_type": "stream",
     "text": [
      "<timed exec>:37: RuntimeWarning: divide by zero encountered in divide\n",
      "<timed exec>:37: RuntimeWarning: invalid value encountered in divide\n",
      "<timed exec>:37: RuntimeWarning: divide by zero encountered in divide\n",
      "<timed exec>:37: RuntimeWarning: invalid value encountered in divide\n",
      "<timed exec>:37: RuntimeWarning: divide by zero encountered in divide\n",
      "<timed exec>:37: RuntimeWarning: invalid value encountered in divide\n",
      "<timed exec>:37: RuntimeWarning: divide by zero encountered in divide\n",
      "<timed exec>:37: RuntimeWarning: invalid value encountered in divide\n",
      "<timed exec>:38: RuntimeWarning: Precision loss occurred in moment calculation due to catastrophic cancellation. This occurs when the data are nearly identical. Results may be unreliable.\n"
     ]
    },
    {
     "name": "stdout",
     "output_type": "stream",
     "text": [
      "124/293, PRC-PAG Pax6 Glut\n",
      "125/293, PPN-CUN-PCG Otp En1 Gaba\n",
      "126/293, PB Pax5 Glut\n"
     ]
    },
    {
     "name": "stderr",
     "output_type": "stream",
     "text": [
      "<timed exec>:37: RuntimeWarning: invalid value encountered in divide\n"
     ]
    },
    {
     "name": "stdout",
     "output_type": "stream",
     "text": [
      "127/293, SCH Six6 Cdc14a Gaba\n",
      "128/293, L4/5 IT CTX Glut\n",
      "129/293, MEA-BST Lhx6 Nr2e1 Gaba\n",
      "130/293, MB-ant-ve Dmrta2 Glut\n",
      "131/293, Tanycyte NN\n"
     ]
    },
    {
     "name": "stderr",
     "output_type": "stream",
     "text": [
      "<timed exec>:37: RuntimeWarning: divide by zero encountered in divide\n",
      "<timed exec>:37: RuntimeWarning: invalid value encountered in divide\n",
      "<timed exec>:37: RuntimeWarning: divide by zero encountered in divide\n",
      "<timed exec>:37: RuntimeWarning: divide by zero encountered in divide\n",
      "<timed exec>:37: RuntimeWarning: invalid value encountered in divide\n",
      "<timed exec>:37: RuntimeWarning: divide by zero encountered in divide\n",
      "<timed exec>:37: RuntimeWarning: divide by zero encountered in divide\n",
      "<timed exec>:37: RuntimeWarning: invalid value encountered in divide\n",
      "/home/xingjiepan/Softwares/conda/anaconda3/envs/wb_analysis/lib/python3.10/site-packages/numpy/core/fromnumeric.py:3432: RuntimeWarning: Mean of empty slice.\n",
      "  return _methods._mean(a, axis=axis, dtype=dtype,\n",
      "/home/xingjiepan/Softwares/conda/anaconda3/envs/wb_analysis/lib/python3.10/site-packages/numpy/core/_methods.py:182: RuntimeWarning: invalid value encountered in divide\n",
      "  ret = um.true_divide(\n",
      "<timed exec>:37: RuntimeWarning: divide by zero encountered in divide\n",
      "<timed exec>:37: RuntimeWarning: invalid value encountered in divide\n",
      "<timed exec>:37: RuntimeWarning: divide by zero encountered in divide\n",
      "<timed exec>:37: RuntimeWarning: invalid value encountered in divide\n",
      "<timed exec>:37: RuntimeWarning: divide by zero encountered in divide\n",
      "<timed exec>:37: RuntimeWarning: divide by zero encountered in divide\n",
      "<timed exec>:37: RuntimeWarning: invalid value encountered in divide\n",
      "<timed exec>:37: RuntimeWarning: divide by zero encountered in divide\n"
     ]
    },
    {
     "name": "stdout",
     "output_type": "stream",
     "text": [
      "132/293, COAp Grxcr2 Glut\n",
      "133/293, PG-TRN-LRN Fat2 Glut\n",
      "134/293, PAG Pou4f2 Glut\n",
      "135/293, RT-ZI Gnb3 Gaba\n",
      "136/293, LH Pou4f1 Sox1 Glut\n",
      "137/293, CS-PRNr-DR En1 Sox2 Gaba\n",
      "138/293, PB Evx2 Glut\n",
      "139/293, LSX Sall3 Pax6 Gaba\n",
      "140/293, PH-LHA Foxb1 Glut\n",
      "141/293, MV-SPIV Zic4 Neurod2 Glut\n",
      "142/293, LSX Otx2 Gaba\n",
      "143/293, SCs Dmbx1 Gaba\n",
      "144/293, MS-SF Bsx Glut\n",
      "145/293, NLL-SOC Spp1 Glut\n"
     ]
    },
    {
     "name": "stderr",
     "output_type": "stream",
     "text": [
      "<timed exec>:37: RuntimeWarning: divide by zero encountered in divide\n",
      "<timed exec>:37: RuntimeWarning: invalid value encountered in divide\n",
      "<timed exec>:37: RuntimeWarning: divide by zero encountered in divide\n",
      "<timed exec>:37: RuntimeWarning: invalid value encountered in divide\n"
     ]
    },
    {
     "name": "stdout",
     "output_type": "stream",
     "text": [
      "146/293, DCO Il22 Gly-Gaba\n",
      "147/293, LGv-ZI Otx2 Gaba\n"
     ]
    },
    {
     "name": "stderr",
     "output_type": "stream",
     "text": [
      "<timed exec>:37: RuntimeWarning: divide by zero encountered in divide\n"
     ]
    },
    {
     "name": "stdout",
     "output_type": "stream",
     "text": [
      "148/293, GPe-SI Sox6 Cyp26b1 Gaba\n",
      "149/293, L4 RSP-ACA Glut\n",
      "150/293, SCop Sln Glut\n",
      "151/293, STR Lhx8 Gaba\n",
      "152/293, PH-ant-LHA Otp Bsx Glut\n",
      "153/293, CBN Dmbx1 Gaba\n",
      "154/293, ZI Pax6 Gaba\n",
      "155/293, B-PB Nr4a2 Glut\n",
      "156/293, ACB-BST-FS D1 Gaba\n",
      "157/293, LSX Nkx2-1 Gaba\n",
      "158/293, Sncg Gaba\n",
      "159/293, SI-MPO-LPO Lhx8 Gaba\n",
      "160/293, L6b CTX Glut\n",
      "161/293, PAG Pou4f1 Bnc2 Glut\n",
      "162/293, CEA-BST Ebf1 Pdyn Gaba\n",
      "163/293, PVH-SO-PVa Otp Glut\n",
      "164/293, LDT-PCG-CS Gata3 Lhx1 Gaba\n",
      "165/293, L6 CT CTX Glut\n",
      "166/293, BST-po Iigp1 Glut\n"
     ]
    },
    {
     "name": "stderr",
     "output_type": "stream",
     "text": [
      "<timed exec>:37: RuntimeWarning: divide by zero encountered in divide\n",
      "<timed exec>:37: RuntimeWarning: invalid value encountered in divide\n",
      "<timed exec>:37: RuntimeWarning: divide by zero encountered in divide\n",
      "<timed exec>:37: RuntimeWarning: invalid value encountered in divide\n",
      "<timed exec>:37: RuntimeWarning: divide by zero encountered in divide\n",
      "<timed exec>:37: RuntimeWarning: invalid value encountered in divide\n",
      "<timed exec>:37: RuntimeWarning: divide by zero encountered in divide\n",
      "<timed exec>:37: RuntimeWarning: invalid value encountered in divide\n"
     ]
    },
    {
     "name": "stdout",
     "output_type": "stream",
     "text": [
      "167/293, VCO Mafa Meis2 Glut\n"
     ]
    },
    {
     "name": "stderr",
     "output_type": "stream",
     "text": [
      "<timed exec>:37: RuntimeWarning: divide by zero encountered in divide\n",
      "<timed exec>:37: RuntimeWarning: invalid value encountered in divide\n",
      "<timed exec>:37: RuntimeWarning: invalid value encountered in divide\n",
      "<timed exec>:37: RuntimeWarning: divide by zero encountered in divide\n",
      "<timed exec>:37: RuntimeWarning: invalid value encountered in divide\n",
      "<timed exec>:37: RuntimeWarning: divide by zero encountered in divide\n",
      "<timed exec>:37: RuntimeWarning: invalid value encountered in divide\n",
      "<timed exec>:37: RuntimeWarning: divide by zero encountered in divide\n",
      "<timed exec>:37: RuntimeWarning: invalid value encountered in divide\n",
      "<timed exec>:37: RuntimeWarning: divide by zero encountered in divide\n",
      "<timed exec>:37: RuntimeWarning: invalid value encountered in divide\n"
     ]
    },
    {
     "name": "stdout",
     "output_type": "stream",
     "text": [
      "168/293, SBPV-PVa Six6 Satb2 Gaba\n",
      "169/293, SNr-VTA Pax5 Npas1 Gaba\n",
      "170/293, PRNc-NI-SG-RPO Vsx2 Nr4a2 Glut\n",
      "171/293, LHA Pmch Glut\n"
     ]
    },
    {
     "name": "stderr",
     "output_type": "stream",
     "text": [
      "<timed exec>:37: RuntimeWarning: invalid value encountered in divide\n"
     ]
    },
    {
     "name": "stdout",
     "output_type": "stream",
     "text": [
      "172/293, NDB-SI-ant Prdm12 Gaba\n",
      "173/293, PSV Pvalb Lhx2 Glut\n",
      "174/293, CBX Purkinje Gaba\n",
      "175/293, IF-RL-CLI-PAG Foxa1 Glut\n",
      "176/293, Sst Chodl Gaba\n",
      "177/293, AHN-RCH-LHA Otp Fezf1 Glut\n",
      "178/293, IC Tfap2d Maf Glut\n",
      "179/293, Bergmann NN\n",
      "180/293, SCig Foxb1 Glut\n",
      "181/293, NTS Dbh Glut\n"
     ]
    },
    {
     "name": "stderr",
     "output_type": "stream",
     "text": [
      "<timed exec>:37: RuntimeWarning: divide by zero encountered in divide\n",
      "<timed exec>:37: RuntimeWarning: invalid value encountered in divide\n",
      "<timed exec>:37: RuntimeWarning: invalid value encountered in divide\n",
      "<timed exec>:37: RuntimeWarning: divide by zero encountered in divide\n"
     ]
    },
    {
     "name": "stdout",
     "output_type": "stream",
     "text": [
      "182/293, NTS-PARN Neurod2 Gly-Gaba\n"
     ]
    },
    {
     "name": "stderr",
     "output_type": "stream",
     "text": [
      "<timed exec>:37: RuntimeWarning: divide by zero encountered in divide\n",
      "<timed exec>:37: RuntimeWarning: divide by zero encountered in divide\n",
      "<timed exec>:37: RuntimeWarning: divide by zero encountered in divide\n"
     ]
    },
    {
     "name": "stdout",
     "output_type": "stream",
     "text": [
      "183/293, SC Bnc2 Glut\n",
      "184/293, LDT Vsx2 Nkx6-1 Nfib Glut\n",
      "185/293, NTS Phox2b Glut\n",
      "186/293, SC-PAG Lef1 Emx2 Gaba\n",
      "187/293, NDB-SI-MA-STRv Lhx8 Gaba\n",
      "188/293, DC NN\n"
     ]
    },
    {
     "name": "stderr",
     "output_type": "stream",
     "text": [
      "<timed exec>:37: RuntimeWarning: divide by zero encountered in divide\n",
      "<timed exec>:37: RuntimeWarning: invalid value encountered in divide\n",
      "<timed exec>:37: RuntimeWarning: divide by zero encountered in divide\n",
      "<timed exec>:37: RuntimeWarning: invalid value encountered in divide\n",
      "<timed exec>:37: RuntimeWarning: divide by zero encountered in divide\n",
      "<timed exec>:37: RuntimeWarning: invalid value encountered in divide\n",
      "<timed exec>:37: RuntimeWarning: divide by zero encountered in divide\n",
      "<timed exec>:37: RuntimeWarning: invalid value encountered in divide\n",
      "<timed exec>:37: RuntimeWarning: divide by zero encountered in divide\n",
      "<timed exec>:37: RuntimeWarning: invalid value encountered in divide\n",
      "<timed exec>:37: RuntimeWarning: divide by zero encountered in divide\n",
      "<timed exec>:37: RuntimeWarning: invalid value encountered in divide\n",
      "<timed exec>:37: RuntimeWarning: divide by zero encountered in divide\n",
      "<timed exec>:37: RuntimeWarning: invalid value encountered in divide\n",
      "<timed exec>:37: RuntimeWarning: divide by zero encountered in divide\n",
      "<timed exec>:37: RuntimeWarning: invalid value encountered in divide\n",
      "<timed exec>:37: RuntimeWarning: divide by zero encountered in divide\n",
      "<timed exec>:37: RuntimeWarning: invalid value encountered in divide\n",
      "<timed exec>:37: RuntimeWarning: divide by zero encountered in divide\n",
      "<timed exec>:37: RuntimeWarning: invalid value encountered in divide\n",
      "<timed exec>:37: RuntimeWarning: divide by zero encountered in divide\n",
      "<timed exec>:37: RuntimeWarning: invalid value encountered in divide\n",
      "<timed exec>:37: RuntimeWarning: divide by zero encountered in divide\n",
      "<timed exec>:37: RuntimeWarning: invalid value encountered in divide\n",
      "<timed exec>:37: RuntimeWarning: divide by zero encountered in divide\n",
      "<timed exec>:37: RuntimeWarning: invalid value encountered in divide\n",
      "<timed exec>:37: RuntimeWarning: divide by zero encountered in divide\n",
      "<timed exec>:37: RuntimeWarning: invalid value encountered in divide\n"
     ]
    },
    {
     "name": "stdout",
     "output_type": "stream",
     "text": [
      "189/293, DTN-LDT-IPN Otp Pax3 Gaba\n",
      "190/293, STR Prox1 Lhx6 Gaba\n",
      "191/293, CS-PRNr-PCG Tmem163 Otp Gaba\n",
      "192/293, L6b EPd Glut\n",
      "193/293, MRN-PPN-CUN Pax8 Gaba\n",
      "194/293, MB-MY Tph2 Glut-Sero\n",
      "195/293, PVHd-DMH Lhx6 Gaba\n",
      "196/293, PMv-TMv Pitx2 Glut\n",
      "197/293, OB-in Frmd7 Gaba\n",
      "198/293, CEA-BST Six3 Cyp26b1 Gaba\n",
      "199/293, SI-MA-LPO-LHA Skor1 Glut\n",
      "200/293, MV Nkx6-1 Gly-Gaba\n",
      "201/293, Pineal Crx Glut\n"
     ]
    },
    {
     "name": "stderr",
     "output_type": "stream",
     "text": [
      "<timed exec>:37: RuntimeWarning: divide by zero encountered in divide\n",
      "<timed exec>:37: RuntimeWarning: invalid value encountered in divide\n",
      "<timed exec>:37: RuntimeWarning: divide by zero encountered in divide\n",
      "<timed exec>:37: RuntimeWarning: invalid value encountered in divide\n",
      "<timed exec>:37: RuntimeWarning: divide by zero encountered in divide\n",
      "<timed exec>:37: RuntimeWarning: invalid value encountered in divide\n"
     ]
    },
    {
     "name": "stdout",
     "output_type": "stream",
     "text": [
      "202/293, MEA Otp Foxp2 Glut\n",
      "203/293, PAS-MV Ebf2 Gly-Gaba\n",
      "204/293, NI-RPO Gata3 Nr4a2 Gaba\n",
      "205/293, PH-an Pitx2 Glut\n",
      "206/293, DMH Prdm13 Gaba\n",
      "207/293, L2/3 IT PPP Glut\n",
      "208/293, PF Fzd5 Glut\n",
      "209/293, MEA-BST Lhx6 Sp9 Gaba\n",
      "210/293, PGRN-PARN-MDRN Hoxb5 Glut\n",
      "211/293, HPF CR Glut\n",
      "212/293, COAa-PAA-MEA Barhl2 Glut\n",
      "213/293, CEA-AAA-BST Six3 Sp9 Gaba\n",
      "214/293, CU-ECU-SPVI Foxb1 Glut\n",
      "215/293, PAG Pou4f3 Glut\n",
      "216/293, MDRN Hoxb5 Ebf2 Gly-Gaba\n",
      "217/293, L2 IT PPP-APr Glut\n",
      "218/293, LGv-SPFp-SPFm Nkx2-2 Tcf7l2 Gaba\n",
      "219/293, MV-SPIV-PRP Dmbx1 Gly-Gaba\n",
      "220/293, CUN Evx2 Lhx2 Glut\n",
      "221/293, PAG-RN Nkx2-2 Otx1 Gaba\n",
      "222/293, LSX Prdm12 Zeb2 Gaba\n",
      "223/293, MEA-COA-BMA Ccdc42 Glut\n",
      "224/293, PRP Otp Gly-Gaba\n",
      "225/293, SUB-ProS Glut\n",
      "226/293, SPVO Mafa Meis2 Glut\n"
     ]
    },
    {
     "name": "stderr",
     "output_type": "stream",
     "text": [
      "<timed exec>:37: RuntimeWarning: divide by zero encountered in divide\n",
      "<timed exec>:37: RuntimeWarning: invalid value encountered in divide\n",
      "<timed exec>:37: RuntimeWarning: divide by zero encountered in divide\n",
      "<timed exec>:37: RuntimeWarning: invalid value encountered in divide\n"
     ]
    },
    {
     "name": "stdout",
     "output_type": "stream",
     "text": [
      "227/293, LHA Barhl2 Glut\n",
      "228/293, CS-RPO Meis2 Gaba\n",
      "229/293, PAG-MRN Pou3f1 Glut\n",
      "230/293, PB-NTS Phox2b Ebf3 Lmx1b Glut\n",
      "231/293, PAG-MRN-RN Foxa2 Gaba\n",
      "232/293, CBN Neurod2 Pvalb Glut\n"
     ]
    },
    {
     "name": "stderr",
     "output_type": "stream",
     "text": [
      "<timed exec>:37: RuntimeWarning: divide by zero encountered in divide\n",
      "<timed exec>:37: RuntimeWarning: divide by zero encountered in divide\n",
      "<timed exec>:37: RuntimeWarning: divide by zero encountered in divide\n"
     ]
    },
    {
     "name": "stdout",
     "output_type": "stream",
     "text": [
      "233/293, L5 IT CTX Glut\n",
      "234/293, ND-INC Foxd2 Glut\n"
     ]
    },
    {
     "name": "stderr",
     "output_type": "stream",
     "text": [
      "<timed exec>:37: RuntimeWarning: divide by zero encountered in divide\n",
      "<timed exec>:37: RuntimeWarning: divide by zero encountered in divide\n"
     ]
    },
    {
     "name": "stdout",
     "output_type": "stream",
     "text": [
      "235/293, PRC-PAG Tcf7l2 Irx2 Glut\n"
     ]
    },
    {
     "name": "stderr",
     "output_type": "stream",
     "text": [
      "<timed exec>:37: RuntimeWarning: divide by zero encountered in divide\n",
      "<timed exec>:37: RuntimeWarning: divide by zero encountered in divide\n"
     ]
    },
    {
     "name": "stdout",
     "output_type": "stream",
     "text": [
      "236/293, PVT-PT Ntrk1 Glut\n",
      "237/293, VMH Fezf1 Glut\n",
      "238/293, MM Foxb1 Glut\n",
      "239/293, SI-MA-ACB Ebf1 Bnc2 Gaba\n",
      "240/293, SCop Pou4f2 Neurod2 Glut\n",
      "241/293, MEA-BST Sox6 Gaba\n"
     ]
    },
    {
     "name": "stderr",
     "output_type": "stream",
     "text": [
      "<timed exec>:37: RuntimeWarning: divide by zero encountered in divide\n",
      "<timed exec>:37: RuntimeWarning: invalid value encountered in divide\n"
     ]
    },
    {
     "name": "stdout",
     "output_type": "stream",
     "text": [
      "242/293, VMH Nr5a1 Glut\n",
      "243/293, TH Prkcd Grin2c Glut\n",
      "244/293, RPA Pax6 Hoxb5 Gly-Gaba\n"
     ]
    },
    {
     "name": "stderr",
     "output_type": "stream",
     "text": [
      "<timed exec>:37: RuntimeWarning: divide by zero encountered in divide\n",
      "<timed exec>:37: RuntimeWarning: divide by zero encountered in divide\n"
     ]
    },
    {
     "name": "stdout",
     "output_type": "stream",
     "text": [
      "245/293, PB Sst Gly-Gaba\n",
      "246/293, PDTg-PCG Pax6 Gaba\n",
      "247/293, IPN-LDT Vsx2 Nkx6-1 Glut\n",
      "248/293, L2/3 IT ENT Glut\n",
      "249/293, SPVC Mafa Glut\n",
      "250/293, SPVC Nmu Glut\n",
      "251/293, PRNc Otp Gly-Gaba\n",
      "252/293, CEA-BST Rai14 Pdyn Crh Gaba\n",
      "253/293, IT AON-TT-DP Glut\n",
      "254/293, PAG-SC Pou4f1 Zic1 Glut\n",
      "255/293, PAG-MRN Tfap2b Glut\n",
      "256/293, LDT-DTN Gata3 Nfix Gaba\n",
      "257/293, APN C1ql2 Glut\n",
      "258/293, PAG-PPN Pax5 Sox21 Gaba\n",
      "259/293, SCm-PAG Cdh23 Gaba\n",
      "260/293, PDTg Otp Shroom3 Gaba\n"
     ]
    },
    {
     "name": "stderr",
     "output_type": "stream",
     "text": [
      "<timed exec>:37: RuntimeWarning: divide by zero encountered in divide\n",
      "<timed exec>:37: RuntimeWarning: invalid value encountered in divide\n"
     ]
    },
    {
     "name": "stdout",
     "output_type": "stream",
     "text": [
      "261/293, PB Lmx1a Glut\n",
      "262/293, PAG-ND-PCG Onecut1 Gaba\n"
     ]
    },
    {
     "name": "stderr",
     "output_type": "stream",
     "text": [
      "<timed exec>:37: RuntimeWarning: divide by zero encountered in divide\n",
      "<timed exec>:37: RuntimeWarning: invalid value encountered in divide\n"
     ]
    },
    {
     "name": "stdout",
     "output_type": "stream",
     "text": [
      "263/293, APN C1ql4 Glut\n",
      "264/293, PAG Ucn Glut\n"
     ]
    },
    {
     "name": "stderr",
     "output_type": "stream",
     "text": [
      "<timed exec>:37: RuntimeWarning: divide by zero encountered in divide\n",
      "<timed exec>:37: RuntimeWarning: invalid value encountered in divide\n"
     ]
    },
    {
     "name": "stdout",
     "output_type": "stream",
     "text": [
      "265/293, AHN-SBPV-PVHd Pdrm12 Gaba\n",
      "266/293, PSV Lmx1a Trpv6 Glut\n"
     ]
    },
    {
     "name": "stderr",
     "output_type": "stream",
     "text": [
      "<timed exec>:37: RuntimeWarning: divide by zero encountered in divide\n",
      "<timed exec>:37: RuntimeWarning: invalid value encountered in divide\n"
     ]
    },
    {
     "name": "stdout",
     "output_type": "stream",
     "text": [
      "267/293, SCdg-PAG Tfap2b Glut\n",
      "268/293, DMH-LHA Vgll2 Glut\n",
      "269/293, IPN Otp Crisp1 Gaba\n",
      "270/293, MY Prox1 Lmo7 Gly-Gaba\n",
      "271/293, SCig Tfap2b Chrnb3 Glut\n",
      "272/293, ADP-MPO Trp73 Glut\n",
      "273/293, BST Tac2 Gaba\n",
      "274/293, MEA-BST Lhx6 Nfib Gaba\n",
      "275/293, HB Calcb Chol\n"
     ]
    },
    {
     "name": "stderr",
     "output_type": "stream",
     "text": [
      "<timed exec>:37: RuntimeWarning: invalid value encountered in divide\n",
      "<timed exec>:37: RuntimeWarning: divide by zero encountered in divide\n",
      "<timed exec>:37: RuntimeWarning: invalid value encountered in divide\n"
     ]
    },
    {
     "name": "stdout",
     "output_type": "stream",
     "text": [
      "276/293, PRNc Prox1 Brs3 Gly-Gaba\n"
     ]
    },
    {
     "name": "stderr",
     "output_type": "stream",
     "text": [
      "<timed exec>:37: RuntimeWarning: divide by zero encountered in divide\n",
      "<timed exec>:37: RuntimeWarning: invalid value encountered in divide\n"
     ]
    },
    {
     "name": "stdout",
     "output_type": "stream",
     "text": [
      "277/293, PDTg Otp Olig3 Gaba\n"
     ]
    },
    {
     "name": "stderr",
     "output_type": "stream",
     "text": [
      "<timed exec>:37: RuntimeWarning: divide by zero encountered in divide\n",
      "<timed exec>:37: RuntimeWarning: divide by zero encountered in divide\n",
      "<timed exec>:37: RuntimeWarning: invalid value encountered in divide\n"
     ]
    },
    {
     "name": "stdout",
     "output_type": "stream",
     "text": [
      "278/293, CM-IAD-CL-PCN Sema5b Glut\n",
      "279/293, RE-Xi Nox4 Glut\n",
      "280/293, DMH Hmx2 Glut\n",
      "281/293, PMd-LHA Foxb1 Glut\n",
      "282/293, SCiw Pitx2 Glut\n",
      "283/293, MPN-MPO-PVpo Hmx2 Glut\n",
      "284/293, PAG-SC Neurod2 Meis2 Glut\n",
      "285/293, NLOT Rho Glut\n"
     ]
    },
    {
     "name": "stderr",
     "output_type": "stream",
     "text": [
      "<timed exec>:37: RuntimeWarning: divide by zero encountered in divide\n",
      "<timed exec>:37: RuntimeWarning: invalid value encountered in divide\n",
      "<timed exec>:37: RuntimeWarning: divide by zero encountered in divide\n",
      "<timed exec>:37: RuntimeWarning: invalid value encountered in divide\n",
      "<timed exec>:37: RuntimeWarning: invalid value encountered in divide\n"
     ]
    },
    {
     "name": "stdout",
     "output_type": "stream",
     "text": [
      "286/293, POR Gata3 Gly-Gaba\n"
     ]
    },
    {
     "name": "stderr",
     "output_type": "stream",
     "text": [
      "<timed exec>:37: RuntimeWarning: divide by zero encountered in divide\n"
     ]
    },
    {
     "name": "stdout",
     "output_type": "stream",
     "text": [
      "287/293, AHN Onecut3 Gaba\n",
      "288/293, SCs Lef1 Gli3 Gaba\n",
      "289/293, IRN Dmbx1 Pax2 Gly-Gaba\n",
      "290/293, OB-mi Frmd7 Gaba\n",
      "291/293, PBG Mtnr1a Glut-Chol\n"
     ]
    },
    {
     "name": "stderr",
     "output_type": "stream",
     "text": [
      "<timed exec>:37: RuntimeWarning: divide by zero encountered in divide\n",
      "<timed exec>:37: RuntimeWarning: invalid value encountered in divide\n"
     ]
    },
    {
     "name": "stdout",
     "output_type": "stream",
     "text": [
      "292/293, DMX VII Tbx20 Chol\n",
      "CPU times: user 1h 23min 1s, sys: 9min 48s, total: 1h 32min 49s\n",
      "Wall time: 2h 33min 11s\n"
     ]
    }
   ],
   "source": [
    "%%time\n",
    "\n",
    "contact_range = (0, 30)\n",
    "control_range = (30, np.float64('inf'))\n",
    "\n",
    "# Get the gene enrichment in close contact cells\n",
    "keys = close_contact_subclass_dict.keys()\n",
    "for key_id, ct_query in enumerate(keys):\n",
    "    print(f'{key_id}/{len(keys)}, {ct_query}')\n",
    "    \n",
    "    # Load the highly imputed highly varible genes for the query cell type\n",
    "    adata = load_imputation_data(imputation_path, genes=hvg_dict[ct_query], \n",
    "                     cell_types=[ct_query], verbose=False)\n",
    "    \n",
    "    for ct_ref in close_contact_subclass_dict[ct_query]:\n",
    "        cis = (ct_query == ct_ref)\n",
    "            \n",
    "        for region in major_brain_regions:\n",
    "            if tuple(sorted([ct_query, ct_ref])) not in contact_pairs_by_region[region]:\n",
    "                continue\n",
    "            \n",
    "            # Get the contact cells and control cells\n",
    "            contact_cells = get_cell_ids_within_dist_range(obs_of_region_dict[region], ct_query, ct_ref, \n",
    "                                    'subclass_label_transfer', contact_range[0], contact_range[1], cis=cis)\n",
    "        \n",
    "            control_cells = get_cell_ids_within_dist_range(obs_of_region_dict[region], ct_query, ct_ref, \n",
    "                                    'subclass_label_transfer', control_range[0], control_range[1], cis=cis)\n",
    "            \n",
    "            # Get the expressions\n",
    "            adata_contact = adata[adata.obs.index.isin(contact_cells)]\n",
    "            adata_control = adata[adata.obs.index.isin(control_cells)]\n",
    "\n",
    "            X_contact = adata_contact.X.toarray()\n",
    "            X_control = adata_control.X.toarray()\n",
    "        \n",
    "            # Calculate the statistics\n",
    "            contact_means = np.mean(X_contact, axis=0)\n",
    "            control_means = np.mean(X_control, axis=0)\n",
    "            fold_changes = contact_means / control_means\n",
    "            pvals = scipy.stats.ttest_ind(X_contact, X_control, axis=0, \n",
    "                                          equal_var=False, alternative='greater')[1]\n",
    "        \n",
    "            for i in range(adata_contact.shape[1]):\n",
    "                contact_gene_enrichment_dicts[region]['subclass_query'].append(ct_query)\n",
    "                contact_gene_enrichment_dicts[region]['subclass_ref'].append(ct_ref)\n",
    "            \n",
    "                contact_gene_enrichment_dicts[region]['gene'].append(adata_contact.var.index[i])\n",
    "                contact_gene_enrichment_dicts[region]['contact_mean'].append(contact_means[i])\n",
    "                contact_gene_enrichment_dicts[region]['control_mean'].append(control_means[i])\n",
    "                contact_gene_enrichment_dicts[region]['fold_change'].append(fold_changes[i])\n",
    "                contact_gene_enrichment_dicts[region]['pval'].append(pvals[i])\n",
    "                \n"
   ]
  },
  {
   "cell_type": "code",
   "execution_count": 9,
   "id": "510f566a",
   "metadata": {},
   "outputs": [],
   "source": [
    "output_path = 'contact_enriched_genes'\n",
    "os.makedirs(output_path, exist_ok=True)\n",
    "\n",
    "contact_gene_enrichment_dfs = {}\n",
    "\n",
    "for region in contact_gene_enrichment_dicts:\n",
    "    contact_gene_enrichment_dfs[region] = pd.DataFrame(contact_gene_enrichment_dicts[region])\n",
    "    contact_gene_enrichment_dfs[region] = contact_gene_enrichment_dfs[region][\n",
    "                                                ~np.isnan(contact_gene_enrichment_dfs[region]['pval'])]\n",
    "    contact_gene_enrichment_dfs[region]['pval_adjusted'] = statsmodels.stats.multitest.multipletests(\n",
    "                                            contact_gene_enrichment_dfs[region]['pval'], method='fdr_bh')[1]\n",
    "\n",
    "\n",
    "    mask = contact_gene_enrichment_dfs[region]['fold_change'] > 2\n",
    "    mask = mask & (contact_gene_enrichment_dfs[region]['pval_adjusted'] < 0.01)\n",
    "    contact_gene_enrichment_dfs[region] = contact_gene_enrichment_dfs[region][mask].sort_values(\n",
    "                                ['pval_adjusted', 'fold_change'], ascending=[True, False])\n",
    "    \n",
    "    contact_gene_enrichment_dfs[region].to_csv(os.path.join(output_path, f'{region}_contact_enriched_genes.csv'))"
   ]
  },
  {
   "cell_type": "code",
   "execution_count": 10,
   "id": "07cb5751",
   "metadata": {},
   "outputs": [],
   "source": [
    "output_path = 'contact_enriched_genes'\n",
    "major_brain_regions = ['Cerebellum', 'Cortical_subplate', 'Fiber_tracts', 'Hippocampus',\n",
    "       'Isocortex', 'Medulla', 'Olfactory', 'Pallidum', 'Pons', 'Striatum',\n",
    "       'Thalamus', 'Ventricular_systems', 'anterior_HY', 'anterior_MB',\n",
    "       'posterior_HY', 'posterior_MB']\n",
    "\n",
    "contact_gene_enrichment_dfs = {}\n",
    "\n",
    "for region in major_brain_regions:\n",
    "    contact_gene_enrichment_dfs[region] = pd.read_csv(os.path.join(\n",
    "                                                        output_path, f'{region}_contact_enriched_genes.csv'))"
   ]
  },
  {
   "cell_type": "code",
   "execution_count": 11,
   "id": "1782b7bd",
   "metadata": {},
   "outputs": [
    {
     "data": {
      "text/html": [
       "<div>\n",
       "<style scoped>\n",
       "    .dataframe tbody tr th:only-of-type {\n",
       "        vertical-align: middle;\n",
       "    }\n",
       "\n",
       "    .dataframe tbody tr th {\n",
       "        vertical-align: top;\n",
       "    }\n",
       "\n",
       "    .dataframe thead th {\n",
       "        text-align: right;\n",
       "    }\n",
       "</style>\n",
       "<table border=\"1\" class=\"dataframe\">\n",
       "  <thead>\n",
       "    <tr style=\"text-align: right;\">\n",
       "      <th></th>\n",
       "      <th></th>\n",
       "      <th>Unnamed: 0</th>\n",
       "      <th>subclass_query</th>\n",
       "      <th>subclass_ref</th>\n",
       "      <th>gene</th>\n",
       "      <th>contact_mean</th>\n",
       "      <th>control_mean</th>\n",
       "      <th>fold_change</th>\n",
       "      <th>pval</th>\n",
       "      <th>pval_adjusted</th>\n",
       "    </tr>\n",
       "  </thead>\n",
       "  <tbody>\n",
       "    <tr>\n",
       "      <th rowspan=\"5\" valign=\"top\">Cerebellum</th>\n",
       "      <th>0</th>\n",
       "      <td>329049</td>\n",
       "      <td>VLMC NN</td>\n",
       "      <td>CHOR NN</td>\n",
       "      <td>Dpep1</td>\n",
       "      <td>3.252998</td>\n",
       "      <td>0.009311</td>\n",
       "      <td>349.365080</td>\n",
       "      <td>0.000000</td>\n",
       "      <td>0.000000</td>\n",
       "    </tr>\n",
       "    <tr>\n",
       "      <th>1</th>\n",
       "      <td>69283</td>\n",
       "      <td>Endo NN</td>\n",
       "      <td>SMC NN</td>\n",
       "      <td>Cytl1</td>\n",
       "      <td>1.504874</td>\n",
       "      <td>0.014590</td>\n",
       "      <td>103.140950</td>\n",
       "      <td>0.000000</td>\n",
       "      <td>0.000000</td>\n",
       "    </tr>\n",
       "    <tr>\n",
       "      <th>2</th>\n",
       "      <td>327917</td>\n",
       "      <td>VLMC NN</td>\n",
       "      <td>CHOR NN</td>\n",
       "      <td>Mme</td>\n",
       "      <td>0.966185</td>\n",
       "      <td>0.012198</td>\n",
       "      <td>79.207170</td>\n",
       "      <td>0.000000</td>\n",
       "      <td>0.000000</td>\n",
       "    </tr>\n",
       "    <tr>\n",
       "      <th>3</th>\n",
       "      <td>70372</td>\n",
       "      <td>Endo NN</td>\n",
       "      <td>SMC NN</td>\n",
       "      <td>Fbln5</td>\n",
       "      <td>3.182609</td>\n",
       "      <td>0.045910</td>\n",
       "      <td>69.323450</td>\n",
       "      <td>0.000000</td>\n",
       "      <td>0.000000</td>\n",
       "    </tr>\n",
       "    <tr>\n",
       "      <th>4</th>\n",
       "      <td>70823</td>\n",
       "      <td>Endo NN</td>\n",
       "      <td>SMC NN</td>\n",
       "      <td>Pi16</td>\n",
       "      <td>0.611192</td>\n",
       "      <td>0.014933</td>\n",
       "      <td>40.929726</td>\n",
       "      <td>0.000000</td>\n",
       "      <td>0.000000</td>\n",
       "    </tr>\n",
       "    <tr>\n",
       "      <th>...</th>\n",
       "      <th>...</th>\n",
       "      <td>...</td>\n",
       "      <td>...</td>\n",
       "      <td>...</td>\n",
       "      <td>...</td>\n",
       "      <td>...</td>\n",
       "      <td>...</td>\n",
       "      <td>...</td>\n",
       "      <td>...</td>\n",
       "      <td>...</td>\n",
       "    </tr>\n",
       "    <tr>\n",
       "      <th rowspan=\"5\" valign=\"top\">posterior_MB</th>\n",
       "      <th>6208</th>\n",
       "      <td>144869</td>\n",
       "      <td>ABC NN</td>\n",
       "      <td>SMC NN</td>\n",
       "      <td>Emp1</td>\n",
       "      <td>1.191851</td>\n",
       "      <td>0.564289</td>\n",
       "      <td>2.112127</td>\n",
       "      <td>0.000962</td>\n",
       "      <td>0.009902</td>\n",
       "    </tr>\n",
       "    <tr>\n",
       "      <th>6209</th>\n",
       "      <td>497184</td>\n",
       "      <td>PAG-SC Pou4f1 Zic1 Glut</td>\n",
       "      <td>SCig Foxb1 Glut</td>\n",
       "      <td>Gm36670</td>\n",
       "      <td>0.132502</td>\n",
       "      <td>0.059608</td>\n",
       "      <td>2.222890</td>\n",
       "      <td>0.000966</td>\n",
       "      <td>0.009940</td>\n",
       "    </tr>\n",
       "    <tr>\n",
       "      <th>6210</th>\n",
       "      <td>89298</td>\n",
       "      <td>BAM NN</td>\n",
       "      <td>ABC NN</td>\n",
       "      <td>Flt3</td>\n",
       "      <td>0.078675</td>\n",
       "      <td>0.017456</td>\n",
       "      <td>4.506964</td>\n",
       "      <td>0.000968</td>\n",
       "      <td>0.009954</td>\n",
       "    </tr>\n",
       "    <tr>\n",
       "      <th>6211</th>\n",
       "      <td>88708</td>\n",
       "      <td>BAM NN</td>\n",
       "      <td>ABC NN</td>\n",
       "      <td>Shc4</td>\n",
       "      <td>0.060459</td>\n",
       "      <td>0.023133</td>\n",
       "      <td>2.613524</td>\n",
       "      <td>0.000970</td>\n",
       "      <td>0.009967</td>\n",
       "    </tr>\n",
       "    <tr>\n",
       "      <th>6212</th>\n",
       "      <td>54113</td>\n",
       "      <td>SC Tnnt1 Gli3 Gaba</td>\n",
       "      <td>SCig Tfap2b Chrnb3 Glut</td>\n",
       "      <td>Gm13589</td>\n",
       "      <td>0.065839</td>\n",
       "      <td>0.032680</td>\n",
       "      <td>2.014675</td>\n",
       "      <td>0.000970</td>\n",
       "      <td>0.009970</td>\n",
       "    </tr>\n",
       "  </tbody>\n",
       "</table>\n",
       "<p>103714 rows × 9 columns</p>\n",
       "</div>"
      ],
      "text/plain": [
       "                   Unnamed: 0           subclass_query  \\\n",
       "Cerebellum   0         329049                  VLMC NN   \n",
       "             1          69283                  Endo NN   \n",
       "             2         327917                  VLMC NN   \n",
       "             3          70372                  Endo NN   \n",
       "             4          70823                  Endo NN   \n",
       "...                       ...                      ...   \n",
       "posterior_MB 6208      144869                   ABC NN   \n",
       "             6209      497184  PAG-SC Pou4f1 Zic1 Glut   \n",
       "             6210       89298                   BAM NN   \n",
       "             6211       88708                   BAM NN   \n",
       "             6212       54113       SC Tnnt1 Gli3 Gaba   \n",
       "\n",
       "                              subclass_ref     gene  contact_mean  \\\n",
       "Cerebellum   0                     CHOR NN    Dpep1      3.252998   \n",
       "             1                      SMC NN    Cytl1      1.504874   \n",
       "             2                     CHOR NN      Mme      0.966185   \n",
       "             3                      SMC NN    Fbln5      3.182609   \n",
       "             4                      SMC NN     Pi16      0.611192   \n",
       "...                                    ...      ...           ...   \n",
       "posterior_MB 6208                   SMC NN     Emp1      1.191851   \n",
       "             6209          SCig Foxb1 Glut  Gm36670      0.132502   \n",
       "             6210                   ABC NN     Flt3      0.078675   \n",
       "             6211                   ABC NN     Shc4      0.060459   \n",
       "             6212  SCig Tfap2b Chrnb3 Glut  Gm13589      0.065839   \n",
       "\n",
       "                   control_mean  fold_change      pval  pval_adjusted  \n",
       "Cerebellum   0         0.009311   349.365080  0.000000       0.000000  \n",
       "             1         0.014590   103.140950  0.000000       0.000000  \n",
       "             2         0.012198    79.207170  0.000000       0.000000  \n",
       "             3         0.045910    69.323450  0.000000       0.000000  \n",
       "             4         0.014933    40.929726  0.000000       0.000000  \n",
       "...                         ...          ...       ...            ...  \n",
       "posterior_MB 6208      0.564289     2.112127  0.000962       0.009902  \n",
       "             6209      0.059608     2.222890  0.000966       0.009940  \n",
       "             6210      0.017456     4.506964  0.000968       0.009954  \n",
       "             6211      0.023133     2.613524  0.000970       0.009967  \n",
       "             6212      0.032680     2.014675  0.000970       0.009970  \n",
       "\n",
       "[103714 rows x 9 columns]"
      ]
     },
     "execution_count": 11,
     "metadata": {},
     "output_type": "execute_result"
    }
   ],
   "source": [
    "pd.concat(contact_gene_enrichment_dfs)"
   ]
  },
  {
   "cell_type": "code",
   "execution_count": 12,
   "id": "4c452558",
   "metadata": {},
   "outputs": [
    {
     "data": {
      "text/html": [
       "<div>\n",
       "<style scoped>\n",
       "    .dataframe tbody tr th:only-of-type {\n",
       "        vertical-align: middle;\n",
       "    }\n",
       "\n",
       "    .dataframe tbody tr th {\n",
       "        vertical-align: top;\n",
       "    }\n",
       "\n",
       "    .dataframe thead th {\n",
       "        text-align: right;\n",
       "    }\n",
       "</style>\n",
       "<table border=\"1\" class=\"dataframe\">\n",
       "  <thead>\n",
       "    <tr style=\"text-align: right;\">\n",
       "      <th></th>\n",
       "      <th>Unnamed: 0</th>\n",
       "      <th>subclass_query</th>\n",
       "      <th>subclass_ref</th>\n",
       "      <th>gene</th>\n",
       "      <th>contact_mean</th>\n",
       "      <th>control_mean</th>\n",
       "      <th>fold_change</th>\n",
       "      <th>pval</th>\n",
       "      <th>pval_adjusted</th>\n",
       "    </tr>\n",
       "  </thead>\n",
       "  <tbody>\n",
       "    <tr>\n",
       "      <th>506</th>\n",
       "      <td>114560</td>\n",
       "      <td>Vip Gaba</td>\n",
       "      <td>L2/3 IT CTX Glut</td>\n",
       "      <td>Col6a3</td>\n",
       "      <td>0.093491</td>\n",
       "      <td>0.030934</td>\n",
       "      <td>3.022236</td>\n",
       "      <td>0.000000e+00</td>\n",
       "      <td>0.000000e+00</td>\n",
       "    </tr>\n",
       "    <tr>\n",
       "      <th>595</th>\n",
       "      <td>114545</td>\n",
       "      <td>Vip Gaba</td>\n",
       "      <td>L2/3 IT CTX Glut</td>\n",
       "      <td>Kcne4</td>\n",
       "      <td>0.051471</td>\n",
       "      <td>0.018444</td>\n",
       "      <td>2.790623</td>\n",
       "      <td>0.000000e+00</td>\n",
       "      <td>0.000000e+00</td>\n",
       "    </tr>\n",
       "    <tr>\n",
       "      <th>627</th>\n",
       "      <td>114648</td>\n",
       "      <td>Vip Gaba</td>\n",
       "      <td>L2/3 IT CTX Glut</td>\n",
       "      <td>Itih5</td>\n",
       "      <td>0.455746</td>\n",
       "      <td>0.166858</td>\n",
       "      <td>2.731339</td>\n",
       "      <td>0.000000e+00</td>\n",
       "      <td>0.000000e+00</td>\n",
       "    </tr>\n",
       "    <tr>\n",
       "      <th>685</th>\n",
       "      <td>115881</td>\n",
       "      <td>Vip Gaba</td>\n",
       "      <td>L2/3 IT CTX Glut</td>\n",
       "      <td>5033421B08Rik</td>\n",
       "      <td>0.474190</td>\n",
       "      <td>0.180798</td>\n",
       "      <td>2.622753</td>\n",
       "      <td>0.000000e+00</td>\n",
       "      <td>0.000000e+00</td>\n",
       "    </tr>\n",
       "    <tr>\n",
       "      <th>742</th>\n",
       "      <td>115613</td>\n",
       "      <td>Vip Gaba</td>\n",
       "      <td>L2/3 IT CTX Glut</td>\n",
       "      <td>Tgfbr2</td>\n",
       "      <td>0.120799</td>\n",
       "      <td>0.047794</td>\n",
       "      <td>2.527498</td>\n",
       "      <td>0.000000e+00</td>\n",
       "      <td>0.000000e+00</td>\n",
       "    </tr>\n",
       "    <tr>\n",
       "      <th>744</th>\n",
       "      <td>115796</td>\n",
       "      <td>Vip Gaba</td>\n",
       "      <td>L2/3 IT CTX Glut</td>\n",
       "      <td>Ntn1</td>\n",
       "      <td>0.207814</td>\n",
       "      <td>0.082352</td>\n",
       "      <td>2.523488</td>\n",
       "      <td>0.000000e+00</td>\n",
       "      <td>0.000000e+00</td>\n",
       "    </tr>\n",
       "    <tr>\n",
       "      <th>749</th>\n",
       "      <td>114584</td>\n",
       "      <td>Vip Gaba</td>\n",
       "      <td>L2/3 IT CTX Glut</td>\n",
       "      <td>Syt2</td>\n",
       "      <td>0.117221</td>\n",
       "      <td>0.046562</td>\n",
       "      <td>2.517502</td>\n",
       "      <td>0.000000e+00</td>\n",
       "      <td>0.000000e+00</td>\n",
       "    </tr>\n",
       "    <tr>\n",
       "      <th>770</th>\n",
       "      <td>115506</td>\n",
       "      <td>Vip Gaba</td>\n",
       "      <td>L2/3 IT CTX Glut</td>\n",
       "      <td>Crispld2</td>\n",
       "      <td>0.958992</td>\n",
       "      <td>0.386245</td>\n",
       "      <td>2.482861</td>\n",
       "      <td>0.000000e+00</td>\n",
       "      <td>0.000000e+00</td>\n",
       "    </tr>\n",
       "    <tr>\n",
       "      <th>775</th>\n",
       "      <td>114955</td>\n",
       "      <td>Vip Gaba</td>\n",
       "      <td>L2/3 IT CTX Glut</td>\n",
       "      <td>Tpm2</td>\n",
       "      <td>0.249913</td>\n",
       "      <td>0.100759</td>\n",
       "      <td>2.480300</td>\n",
       "      <td>0.000000e+00</td>\n",
       "      <td>0.000000e+00</td>\n",
       "    </tr>\n",
       "    <tr>\n",
       "      <th>780</th>\n",
       "      <td>114675</td>\n",
       "      <td>Vip Gaba</td>\n",
       "      <td>L2/3 IT CTX Glut</td>\n",
       "      <td>Fibcd1</td>\n",
       "      <td>0.270682</td>\n",
       "      <td>0.109468</td>\n",
       "      <td>2.472701</td>\n",
       "      <td>0.000000e+00</td>\n",
       "      <td>0.000000e+00</td>\n",
       "    </tr>\n",
       "    <tr>\n",
       "      <th>811</th>\n",
       "      <td>114960</td>\n",
       "      <td>Vip Gaba</td>\n",
       "      <td>L2/3 IT CTX Glut</td>\n",
       "      <td>Col15a1</td>\n",
       "      <td>0.577864</td>\n",
       "      <td>0.237331</td>\n",
       "      <td>2.434840</td>\n",
       "      <td>0.000000e+00</td>\n",
       "      <td>0.000000e+00</td>\n",
       "    </tr>\n",
       "    <tr>\n",
       "      <th>922</th>\n",
       "      <td>116123</td>\n",
       "      <td>Vip Gaba</td>\n",
       "      <td>L2/3 IT CTX Glut</td>\n",
       "      <td>Rai14</td>\n",
       "      <td>0.232709</td>\n",
       "      <td>0.100972</td>\n",
       "      <td>2.304689</td>\n",
       "      <td>0.000000e+00</td>\n",
       "      <td>0.000000e+00</td>\n",
       "    </tr>\n",
       "    <tr>\n",
       "      <th>954</th>\n",
       "      <td>114723</td>\n",
       "      <td>Vip Gaba</td>\n",
       "      <td>L2/3 IT CTX Glut</td>\n",
       "      <td>Lrp4</td>\n",
       "      <td>0.063046</td>\n",
       "      <td>0.027746</td>\n",
       "      <td>2.272269</td>\n",
       "      <td>0.000000e+00</td>\n",
       "      <td>0.000000e+00</td>\n",
       "    </tr>\n",
       "    <tr>\n",
       "      <th>961</th>\n",
       "      <td>115208</td>\n",
       "      <td>Vip Gaba</td>\n",
       "      <td>L2/3 IT CTX Glut</td>\n",
       "      <td>Crhr2</td>\n",
       "      <td>0.056464</td>\n",
       "      <td>0.024915</td>\n",
       "      <td>2.266304</td>\n",
       "      <td>0.000000e+00</td>\n",
       "      <td>0.000000e+00</td>\n",
       "    </tr>\n",
       "    <tr>\n",
       "      <th>965</th>\n",
       "      <td>115420</td>\n",
       "      <td>Vip Gaba</td>\n",
       "      <td>L2/3 IT CTX Glut</td>\n",
       "      <td>Plekha2</td>\n",
       "      <td>0.184152</td>\n",
       "      <td>0.081316</td>\n",
       "      <td>2.264637</td>\n",
       "      <td>0.000000e+00</td>\n",
       "      <td>0.000000e+00</td>\n",
       "    </tr>\n",
       "    <tr>\n",
       "      <th>1010</th>\n",
       "      <td>114715</td>\n",
       "      <td>Vip Gaba</td>\n",
       "      <td>L2/3 IT CTX Glut</td>\n",
       "      <td>Itga4</td>\n",
       "      <td>0.462865</td>\n",
       "      <td>0.206870</td>\n",
       "      <td>2.237470</td>\n",
       "      <td>0.000000e+00</td>\n",
       "      <td>0.000000e+00</td>\n",
       "    </tr>\n",
       "    <tr>\n",
       "      <th>1019</th>\n",
       "      <td>114959</td>\n",
       "      <td>Vip Gaba</td>\n",
       "      <td>L2/3 IT CTX Glut</td>\n",
       "      <td>Gm12426</td>\n",
       "      <td>0.049847</td>\n",
       "      <td>0.022341</td>\n",
       "      <td>2.231228</td>\n",
       "      <td>0.000000e+00</td>\n",
       "      <td>0.000000e+00</td>\n",
       "    </tr>\n",
       "    <tr>\n",
       "      <th>1020</th>\n",
       "      <td>115242</td>\n",
       "      <td>Vip Gaba</td>\n",
       "      <td>L2/3 IT CTX Glut</td>\n",
       "      <td>Oxtr</td>\n",
       "      <td>0.186234</td>\n",
       "      <td>0.083496</td>\n",
       "      <td>2.230462</td>\n",
       "      <td>0.000000e+00</td>\n",
       "      <td>0.000000e+00</td>\n",
       "    </tr>\n",
       "    <tr>\n",
       "      <th>1031</th>\n",
       "      <td>115342</td>\n",
       "      <td>Vip Gaba</td>\n",
       "      <td>L2/3 IT CTX Glut</td>\n",
       "      <td>A730056A06Rik</td>\n",
       "      <td>0.089814</td>\n",
       "      <td>0.040381</td>\n",
       "      <td>2.224145</td>\n",
       "      <td>0.000000e+00</td>\n",
       "      <td>0.000000e+00</td>\n",
       "    </tr>\n",
       "    <tr>\n",
       "      <th>1035</th>\n",
       "      <td>115535</td>\n",
       "      <td>Vip Gaba</td>\n",
       "      <td>L2/3 IT CTX Glut</td>\n",
       "      <td>Kirrel3</td>\n",
       "      <td>11.773563</td>\n",
       "      <td>5.301588</td>\n",
       "      <td>2.220762</td>\n",
       "      <td>0.000000e+00</td>\n",
       "      <td>0.000000e+00</td>\n",
       "    </tr>\n",
       "    <tr>\n",
       "      <th>1118</th>\n",
       "      <td>116177</td>\n",
       "      <td>Vip Gaba</td>\n",
       "      <td>L2/3 IT CTX Glut</td>\n",
       "      <td>Syt10</td>\n",
       "      <td>0.143387</td>\n",
       "      <td>0.066665</td>\n",
       "      <td>2.150864</td>\n",
       "      <td>0.000000e+00</td>\n",
       "      <td>0.000000e+00</td>\n",
       "    </tr>\n",
       "    <tr>\n",
       "      <th>1142</th>\n",
       "      <td>116223</td>\n",
       "      <td>Vip Gaba</td>\n",
       "      <td>L2/3 IT CTX Glut</td>\n",
       "      <td>Fam43a</td>\n",
       "      <td>0.145605</td>\n",
       "      <td>0.068209</td>\n",
       "      <td>2.134692</td>\n",
       "      <td>0.000000e+00</td>\n",
       "      <td>0.000000e+00</td>\n",
       "    </tr>\n",
       "    <tr>\n",
       "      <th>1170</th>\n",
       "      <td>114690</td>\n",
       "      <td>Vip Gaba</td>\n",
       "      <td>L2/3 IT CTX Glut</td>\n",
       "      <td>Galnt5</td>\n",
       "      <td>0.042209</td>\n",
       "      <td>0.019943</td>\n",
       "      <td>2.116478</td>\n",
       "      <td>0.000000e+00</td>\n",
       "      <td>0.000000e+00</td>\n",
       "    </tr>\n",
       "    <tr>\n",
       "      <th>1283</th>\n",
       "      <td>115397</td>\n",
       "      <td>Vip Gaba</td>\n",
       "      <td>L2/3 IT CTX Glut</td>\n",
       "      <td>Plpp4</td>\n",
       "      <td>2.087346</td>\n",
       "      <td>1.021547</td>\n",
       "      <td>2.043319</td>\n",
       "      <td>0.000000e+00</td>\n",
       "      <td>0.000000e+00</td>\n",
       "    </tr>\n",
       "    <tr>\n",
       "      <th>1290</th>\n",
       "      <td>115099</td>\n",
       "      <td>Vip Gaba</td>\n",
       "      <td>L2/3 IT CTX Glut</td>\n",
       "      <td>Igfbp7</td>\n",
       "      <td>0.272240</td>\n",
       "      <td>0.133654</td>\n",
       "      <td>2.036909</td>\n",
       "      <td>0.000000e+00</td>\n",
       "      <td>0.000000e+00</td>\n",
       "    </tr>\n",
       "    <tr>\n",
       "      <th>1315</th>\n",
       "      <td>115343</td>\n",
       "      <td>Vip Gaba</td>\n",
       "      <td>L2/3 IT CTX Glut</td>\n",
       "      <td>Rgma</td>\n",
       "      <td>0.431067</td>\n",
       "      <td>0.213138</td>\n",
       "      <td>2.022473</td>\n",
       "      <td>0.000000e+00</td>\n",
       "      <td>0.000000e+00</td>\n",
       "    </tr>\n",
       "    <tr>\n",
       "      <th>2585</th>\n",
       "      <td>114526</td>\n",
       "      <td>Vip Gaba</td>\n",
       "      <td>L2/3 IT CTX Glut</td>\n",
       "      <td>Aox3</td>\n",
       "      <td>0.038420</td>\n",
       "      <td>0.017391</td>\n",
       "      <td>2.209207</td>\n",
       "      <td>2.006519e-41</td>\n",
       "      <td>7.043922e-40</td>\n",
       "    </tr>\n",
       "  </tbody>\n",
       "</table>\n",
       "</div>"
      ],
      "text/plain": [
       "      Unnamed: 0 subclass_query      subclass_ref           gene  \\\n",
       "506       114560       Vip Gaba  L2/3 IT CTX Glut         Col6a3   \n",
       "595       114545       Vip Gaba  L2/3 IT CTX Glut          Kcne4   \n",
       "627       114648       Vip Gaba  L2/3 IT CTX Glut          Itih5   \n",
       "685       115881       Vip Gaba  L2/3 IT CTX Glut  5033421B08Rik   \n",
       "742       115613       Vip Gaba  L2/3 IT CTX Glut         Tgfbr2   \n",
       "744       115796       Vip Gaba  L2/3 IT CTX Glut           Ntn1   \n",
       "749       114584       Vip Gaba  L2/3 IT CTX Glut           Syt2   \n",
       "770       115506       Vip Gaba  L2/3 IT CTX Glut       Crispld2   \n",
       "775       114955       Vip Gaba  L2/3 IT CTX Glut           Tpm2   \n",
       "780       114675       Vip Gaba  L2/3 IT CTX Glut         Fibcd1   \n",
       "811       114960       Vip Gaba  L2/3 IT CTX Glut        Col15a1   \n",
       "922       116123       Vip Gaba  L2/3 IT CTX Glut          Rai14   \n",
       "954       114723       Vip Gaba  L2/3 IT CTX Glut           Lrp4   \n",
       "961       115208       Vip Gaba  L2/3 IT CTX Glut          Crhr2   \n",
       "965       115420       Vip Gaba  L2/3 IT CTX Glut        Plekha2   \n",
       "1010      114715       Vip Gaba  L2/3 IT CTX Glut          Itga4   \n",
       "1019      114959       Vip Gaba  L2/3 IT CTX Glut        Gm12426   \n",
       "1020      115242       Vip Gaba  L2/3 IT CTX Glut           Oxtr   \n",
       "1031      115342       Vip Gaba  L2/3 IT CTX Glut  A730056A06Rik   \n",
       "1035      115535       Vip Gaba  L2/3 IT CTX Glut        Kirrel3   \n",
       "1118      116177       Vip Gaba  L2/3 IT CTX Glut          Syt10   \n",
       "1142      116223       Vip Gaba  L2/3 IT CTX Glut         Fam43a   \n",
       "1170      114690       Vip Gaba  L2/3 IT CTX Glut         Galnt5   \n",
       "1283      115397       Vip Gaba  L2/3 IT CTX Glut          Plpp4   \n",
       "1290      115099       Vip Gaba  L2/3 IT CTX Glut         Igfbp7   \n",
       "1315      115343       Vip Gaba  L2/3 IT CTX Glut           Rgma   \n",
       "2585      114526       Vip Gaba  L2/3 IT CTX Glut           Aox3   \n",
       "\n",
       "      contact_mean  control_mean  fold_change          pval  pval_adjusted  \n",
       "506       0.093491      0.030934     3.022236  0.000000e+00   0.000000e+00  \n",
       "595       0.051471      0.018444     2.790623  0.000000e+00   0.000000e+00  \n",
       "627       0.455746      0.166858     2.731339  0.000000e+00   0.000000e+00  \n",
       "685       0.474190      0.180798     2.622753  0.000000e+00   0.000000e+00  \n",
       "742       0.120799      0.047794     2.527498  0.000000e+00   0.000000e+00  \n",
       "744       0.207814      0.082352     2.523488  0.000000e+00   0.000000e+00  \n",
       "749       0.117221      0.046562     2.517502  0.000000e+00   0.000000e+00  \n",
       "770       0.958992      0.386245     2.482861  0.000000e+00   0.000000e+00  \n",
       "775       0.249913      0.100759     2.480300  0.000000e+00   0.000000e+00  \n",
       "780       0.270682      0.109468     2.472701  0.000000e+00   0.000000e+00  \n",
       "811       0.577864      0.237331     2.434840  0.000000e+00   0.000000e+00  \n",
       "922       0.232709      0.100972     2.304689  0.000000e+00   0.000000e+00  \n",
       "954       0.063046      0.027746     2.272269  0.000000e+00   0.000000e+00  \n",
       "961       0.056464      0.024915     2.266304  0.000000e+00   0.000000e+00  \n",
       "965       0.184152      0.081316     2.264637  0.000000e+00   0.000000e+00  \n",
       "1010      0.462865      0.206870     2.237470  0.000000e+00   0.000000e+00  \n",
       "1019      0.049847      0.022341     2.231228  0.000000e+00   0.000000e+00  \n",
       "1020      0.186234      0.083496     2.230462  0.000000e+00   0.000000e+00  \n",
       "1031      0.089814      0.040381     2.224145  0.000000e+00   0.000000e+00  \n",
       "1035     11.773563      5.301588     2.220762  0.000000e+00   0.000000e+00  \n",
       "1118      0.143387      0.066665     2.150864  0.000000e+00   0.000000e+00  \n",
       "1142      0.145605      0.068209     2.134692  0.000000e+00   0.000000e+00  \n",
       "1170      0.042209      0.019943     2.116478  0.000000e+00   0.000000e+00  \n",
       "1283      2.087346      1.021547     2.043319  0.000000e+00   0.000000e+00  \n",
       "1290      0.272240      0.133654     2.036909  0.000000e+00   0.000000e+00  \n",
       "1315      0.431067      0.213138     2.022473  0.000000e+00   0.000000e+00  \n",
       "2585      0.038420      0.017391     2.209207  2.006519e-41   7.043922e-40  "
      ]
     },
     "execution_count": 12,
     "metadata": {},
     "output_type": "execute_result"
    }
   ],
   "source": [
    "contact_gene_enrichment_dfs['Isocortex'][\n",
    "    (contact_gene_enrichment_dfs['Isocortex']['subclass_query'] == 'Vip Gaba')\n",
    "   &(contact_gene_enrichment_dfs['Isocortex']['subclass_ref'] == 'L2/3 IT CTX Glut')]"
   ]
  },
  {
   "cell_type": "code",
   "execution_count": 13,
   "id": "bb4fcd19",
   "metadata": {},
   "outputs": [
    {
     "data": {
      "text/html": [
       "<div>\n",
       "<style scoped>\n",
       "    .dataframe tbody tr th:only-of-type {\n",
       "        vertical-align: middle;\n",
       "    }\n",
       "\n",
       "    .dataframe tbody tr th {\n",
       "        vertical-align: top;\n",
       "    }\n",
       "\n",
       "    .dataframe thead th {\n",
       "        text-align: right;\n",
       "    }\n",
       "</style>\n",
       "<table border=\"1\" class=\"dataframe\">\n",
       "  <thead>\n",
       "    <tr style=\"text-align: right;\">\n",
       "      <th></th>\n",
       "      <th>Unnamed: 0</th>\n",
       "      <th>subclass_query</th>\n",
       "      <th>subclass_ref</th>\n",
       "      <th>gene</th>\n",
       "      <th>contact_mean</th>\n",
       "      <th>control_mean</th>\n",
       "      <th>fold_change</th>\n",
       "      <th>pval</th>\n",
       "      <th>pval_adjusted</th>\n",
       "    </tr>\n",
       "  </thead>\n",
       "  <tbody>\n",
       "  </tbody>\n",
       "</table>\n",
       "</div>"
      ],
      "text/plain": [
       "Empty DataFrame\n",
       "Columns: [Unnamed: 0, subclass_query, subclass_ref, gene, contact_mean, control_mean, fold_change, pval, pval_adjusted]\n",
       "Index: []"
      ]
     },
     "execution_count": 13,
     "metadata": {},
     "output_type": "execute_result"
    }
   ],
   "source": [
    "contact_gene_enrichment_dfs['Isocortex'][\n",
    "    (contact_gene_enrichment_dfs['Isocortex']['subclass_query'] == 'L2/3 IT CTX Glut')\n",
    "   &(contact_gene_enrichment_dfs['Isocortex']['subclass_ref'] == 'Vip Gaba')]"
   ]
  },
  {
   "cell_type": "code",
   "execution_count": 14,
   "id": "fb0b2c91",
   "metadata": {},
   "outputs": [
    {
     "data": {
      "text/html": [
       "<div>\n",
       "<style scoped>\n",
       "    .dataframe tbody tr th:only-of-type {\n",
       "        vertical-align: middle;\n",
       "    }\n",
       "\n",
       "    .dataframe tbody tr th {\n",
       "        vertical-align: top;\n",
       "    }\n",
       "\n",
       "    .dataframe thead th {\n",
       "        text-align: right;\n",
       "    }\n",
       "</style>\n",
       "<table border=\"1\" class=\"dataframe\">\n",
       "  <thead>\n",
       "    <tr style=\"text-align: right;\">\n",
       "      <th></th>\n",
       "      <th>Unnamed: 0</th>\n",
       "      <th>subclass_query</th>\n",
       "      <th>subclass_ref</th>\n",
       "      <th>gene</th>\n",
       "      <th>contact_mean</th>\n",
       "      <th>control_mean</th>\n",
       "      <th>fold_change</th>\n",
       "      <th>pval</th>\n",
       "      <th>pval_adjusted</th>\n",
       "    </tr>\n",
       "  </thead>\n",
       "  <tbody>\n",
       "    <tr>\n",
       "      <th>290</th>\n",
       "      <td>412034</td>\n",
       "      <td>Astro-OLF NN</td>\n",
       "      <td>OB-STR-CTX Inh IMN</td>\n",
       "      <td>Sfrp1</td>\n",
       "      <td>1.463033</td>\n",
       "      <td>0.226657</td>\n",
       "      <td>6.454840</td>\n",
       "      <td>0.0</td>\n",
       "      <td>0.0</td>\n",
       "    </tr>\n",
       "    <tr>\n",
       "      <th>1811</th>\n",
       "      <td>418316</td>\n",
       "      <td>Astro-OLF NN</td>\n",
       "      <td>Oligo NN</td>\n",
       "      <td>Sfrp1</td>\n",
       "      <td>1.014605</td>\n",
       "      <td>0.366466</td>\n",
       "      <td>2.768617</td>\n",
       "      <td>0.0</td>\n",
       "      <td>0.0</td>\n",
       "    </tr>\n",
       "    <tr>\n",
       "      <th>2449</th>\n",
       "      <td>453184</td>\n",
       "      <td>VLMC NN</td>\n",
       "      <td>VLMC NN</td>\n",
       "      <td>Sfrp1</td>\n",
       "      <td>0.370432</td>\n",
       "      <td>0.150858</td>\n",
       "      <td>2.455510</td>\n",
       "      <td>0.0</td>\n",
       "      <td>0.0</td>\n",
       "    </tr>\n",
       "  </tbody>\n",
       "</table>\n",
       "</div>"
      ],
      "text/plain": [
       "      Unnamed: 0 subclass_query        subclass_ref   gene  contact_mean  \\\n",
       "290       412034   Astro-OLF NN  OB-STR-CTX Inh IMN  Sfrp1      1.463033   \n",
       "1811      418316   Astro-OLF NN            Oligo NN  Sfrp1      1.014605   \n",
       "2449      453184        VLMC NN             VLMC NN  Sfrp1      0.370432   \n",
       "\n",
       "      control_mean  fold_change  pval  pval_adjusted  \n",
       "290       0.226657     6.454840   0.0            0.0  \n",
       "1811      0.366466     2.768617   0.0            0.0  \n",
       "2449      0.150858     2.455510   0.0            0.0  "
      ]
     },
     "execution_count": 14,
     "metadata": {},
     "output_type": "execute_result"
    }
   ],
   "source": [
    "contact_gene_enrichment_dfs['Olfactory'][\n",
    "            contact_gene_enrichment_dfs['Olfactory']['gene'] == 'Sfrp1']"
   ]
  },
  {
   "cell_type": "code",
   "execution_count": 15,
   "id": "36ff866f",
   "metadata": {},
   "outputs": [
    {
     "data": {
      "text/html": [
       "<div>\n",
       "<style scoped>\n",
       "    .dataframe tbody tr th:only-of-type {\n",
       "        vertical-align: middle;\n",
       "    }\n",
       "\n",
       "    .dataframe tbody tr th {\n",
       "        vertical-align: top;\n",
       "    }\n",
       "\n",
       "    .dataframe thead th {\n",
       "        text-align: right;\n",
       "    }\n",
       "</style>\n",
       "<table border=\"1\" class=\"dataframe\">\n",
       "  <thead>\n",
       "    <tr style=\"text-align: right;\">\n",
       "      <th></th>\n",
       "      <th>Unnamed: 0</th>\n",
       "      <th>subclass_query</th>\n",
       "      <th>subclass_ref</th>\n",
       "      <th>gene</th>\n",
       "      <th>contact_mean</th>\n",
       "      <th>control_mean</th>\n",
       "      <th>fold_change</th>\n",
       "      <th>pval</th>\n",
       "      <th>pval_adjusted</th>\n",
       "    </tr>\n",
       "  </thead>\n",
       "  <tbody>\n",
       "    <tr>\n",
       "      <th>1</th>\n",
       "      <td>46981</td>\n",
       "      <td>Endo NN</td>\n",
       "      <td>SMC NN</td>\n",
       "      <td>Pi16</td>\n",
       "      <td>0.467497</td>\n",
       "      <td>0.010579</td>\n",
       "      <td>44.193108</td>\n",
       "      <td>0.000000e+00</td>\n",
       "      <td>0.000000e+00</td>\n",
       "    </tr>\n",
       "    <tr>\n",
       "      <th>349</th>\n",
       "      <td>320205</td>\n",
       "      <td>VLMC NN</td>\n",
       "      <td>SMC NN</td>\n",
       "      <td>Pi16</td>\n",
       "      <td>0.237895</td>\n",
       "      <td>0.066519</td>\n",
       "      <td>3.576334</td>\n",
       "      <td>0.000000e+00</td>\n",
       "      <td>0.000000e+00</td>\n",
       "    </tr>\n",
       "    <tr>\n",
       "      <th>1692</th>\n",
       "      <td>52167</td>\n",
       "      <td>Endo NN</td>\n",
       "      <td>VLMC NN</td>\n",
       "      <td>Pi16</td>\n",
       "      <td>0.191532</td>\n",
       "      <td>0.016038</td>\n",
       "      <td>11.942672</td>\n",
       "      <td>2.460720e-202</td>\n",
       "      <td>1.450849e-200</td>\n",
       "    </tr>\n",
       "    <tr>\n",
       "      <th>2187</th>\n",
       "      <td>49574</td>\n",
       "      <td>Endo NN</td>\n",
       "      <td>Endo NN</td>\n",
       "      <td>Pi16</td>\n",
       "      <td>0.038719</td>\n",
       "      <td>0.016926</td>\n",
       "      <td>2.287566</td>\n",
       "      <td>3.049870e-92</td>\n",
       "      <td>1.394498e-90</td>\n",
       "    </tr>\n",
       "    <tr>\n",
       "      <th>2377</th>\n",
       "      <td>72911</td>\n",
       "      <td>Endo NN</td>\n",
       "      <td>BAM NN</td>\n",
       "      <td>Pi16</td>\n",
       "      <td>0.178484</td>\n",
       "      <td>0.023548</td>\n",
       "      <td>7.579503</td>\n",
       "      <td>2.139483e-63</td>\n",
       "      <td>8.763176e-62</td>\n",
       "    </tr>\n",
       "    <tr>\n",
       "      <th>2838</th>\n",
       "      <td>57353</td>\n",
       "      <td>Endo NN</td>\n",
       "      <td>ABC NN</td>\n",
       "      <td>Pi16</td>\n",
       "      <td>0.130049</td>\n",
       "      <td>0.025771</td>\n",
       "      <td>5.046279</td>\n",
       "      <td>1.307796e-25</td>\n",
       "      <td>3.500689e-24</td>\n",
       "    </tr>\n",
       "    <tr>\n",
       "      <th>3870</th>\n",
       "      <td>54760</td>\n",
       "      <td>Endo NN</td>\n",
       "      <td>DC NN</td>\n",
       "      <td>Pi16</td>\n",
       "      <td>0.226827</td>\n",
       "      <td>0.027275</td>\n",
       "      <td>8.316235</td>\n",
       "      <td>9.487161e-07</td>\n",
       "      <td>1.109335e-05</td>\n",
       "    </tr>\n",
       "    <tr>\n",
       "      <th>5134</th>\n",
       "      <td>78097</td>\n",
       "      <td>Endo NN</td>\n",
       "      <td>Lymphoid NN</td>\n",
       "      <td>Pi16</td>\n",
       "      <td>0.055491</td>\n",
       "      <td>0.026620</td>\n",
       "      <td>2.084580</td>\n",
       "      <td>7.739279e-04</td>\n",
       "      <td>6.032233e-03</td>\n",
       "    </tr>\n",
       "  </tbody>\n",
       "</table>\n",
       "</div>"
      ],
      "text/plain": [
       "      Unnamed: 0 subclass_query subclass_ref  gene  contact_mean  \\\n",
       "1          46981        Endo NN       SMC NN  Pi16      0.467497   \n",
       "349       320205        VLMC NN       SMC NN  Pi16      0.237895   \n",
       "1692       52167        Endo NN      VLMC NN  Pi16      0.191532   \n",
       "2187       49574        Endo NN      Endo NN  Pi16      0.038719   \n",
       "2377       72911        Endo NN       BAM NN  Pi16      0.178484   \n",
       "2838       57353        Endo NN       ABC NN  Pi16      0.130049   \n",
       "3870       54760        Endo NN        DC NN  Pi16      0.226827   \n",
       "5134       78097        Endo NN  Lymphoid NN  Pi16      0.055491   \n",
       "\n",
       "      control_mean  fold_change           pval  pval_adjusted  \n",
       "1         0.010579    44.193108   0.000000e+00   0.000000e+00  \n",
       "349       0.066519     3.576334   0.000000e+00   0.000000e+00  \n",
       "1692      0.016038    11.942672  2.460720e-202  1.450849e-200  \n",
       "2187      0.016926     2.287566   3.049870e-92   1.394498e-90  \n",
       "2377      0.023548     7.579503   2.139483e-63   8.763176e-62  \n",
       "2838      0.025771     5.046279   1.307796e-25   3.500689e-24  \n",
       "3870      0.027275     8.316235   9.487161e-07   1.109335e-05  \n",
       "5134      0.026620     2.084580   7.739279e-04   6.032233e-03  "
      ]
     },
     "execution_count": 15,
     "metadata": {},
     "output_type": "execute_result"
    }
   ],
   "source": [
    "contact_gene_enrichment_dfs['Isocortex'][\n",
    "            contact_gene_enrichment_dfs['Isocortex']['gene'] == 'Pi16']"
   ]
  },
  {
   "cell_type": "code",
   "execution_count": null,
   "id": "91d4d332",
   "metadata": {},
   "outputs": [],
   "source": []
  }
 ],
 "metadata": {
  "kernelspec": {
   "display_name": "Python 3 (ipykernel)",
   "language": "python",
   "name": "python3"
  },
  "language_info": {
   "codemirror_mode": {
    "name": "ipython",
    "version": 3
   },
   "file_extension": ".py",
   "mimetype": "text/x-python",
   "name": "python",
   "nbconvert_exporter": "python",
   "pygments_lexer": "ipython3",
   "version": "3.10.5"
  }
 },
 "nbformat": 4,
 "nbformat_minor": 5
}
